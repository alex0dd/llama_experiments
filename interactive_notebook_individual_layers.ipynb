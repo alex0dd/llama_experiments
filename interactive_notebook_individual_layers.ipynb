{
 "cells": [
  {
   "cell_type": "code",
   "execution_count": 1,
   "id": "432f8e64-1fc5-4349-865c-8f4e6345023b",
   "metadata": {},
   "outputs": [],
   "source": [
    "from pprint import pprint\n",
    "from parsers import ModelParser\n",
    "\n",
    "import torch\n",
    "#from transformers import AutoTokenizer\n",
    "\n",
    "model_parser = ModelParser([\n",
    "    \"../Meta-Llama-3-8B/model-00001-of-00004.safetensors\",\n",
    "    \"../Meta-Llama-3-8B/model-00002-of-00004.safetensors\",\n",
    "    \"../Meta-Llama-3-8B/model-00003-of-00004.safetensors\",\n",
    "    \"../Meta-Llama-3-8B/model-00004-of-00004.safetensors\",\n",
    "])"
   ]
  },
  {
   "cell_type": "code",
   "execution_count": 2,
   "id": "e1269a93-4113-4c4c-ad8e-6c2391540997",
   "metadata": {
    "scrolled": true
   },
   "outputs": [
    {
     "name": "stdout",
     "output_type": "stream",
     "text": [
      "['model.embed_tokens.weight',\n",
      " 'model.layers.0.input_layernorm.weight',\n",
      " 'model.layers.0.mlp.down_proj.weight',\n",
      " 'model.layers.0.mlp.gate_proj.weight',\n",
      " 'model.layers.0.mlp.up_proj.weight',\n",
      " 'model.layers.0.post_attention_layernorm.weight',\n",
      " 'model.layers.0.self_attn.k_proj.weight',\n",
      " 'model.layers.0.self_attn.o_proj.weight',\n",
      " 'model.layers.0.self_attn.q_proj.weight',\n",
      " 'model.layers.0.self_attn.v_proj.weight',\n",
      " 'model.layers.1.input_layernorm.weight',\n",
      " 'model.layers.1.mlp.down_proj.weight',\n",
      " 'model.layers.1.mlp.gate_proj.weight',\n",
      " 'model.layers.1.mlp.up_proj.weight',\n",
      " 'model.layers.1.post_attention_layernorm.weight',\n",
      " 'model.layers.1.self_attn.k_proj.weight',\n",
      " 'model.layers.1.self_attn.o_proj.weight',\n",
      " 'model.layers.1.self_attn.q_proj.weight',\n",
      " 'model.layers.1.self_attn.v_proj.weight',\n",
      " 'model.layers.2.input_layernorm.weight',\n",
      " 'model.layers.2.mlp.down_proj.weight',\n",
      " 'model.layers.2.mlp.gate_proj.weight',\n",
      " 'model.layers.2.mlp.up_proj.weight',\n",
      " 'model.layers.2.post_attention_layernorm.weight',\n",
      " 'model.layers.2.self_attn.k_proj.weight',\n",
      " 'model.layers.2.self_attn.o_proj.weight',\n",
      " 'model.layers.2.self_attn.q_proj.weight',\n",
      " 'model.layers.2.self_attn.v_proj.weight',\n",
      " 'model.layers.3.input_layernorm.weight',\n",
      " 'model.layers.3.mlp.down_proj.weight',\n",
      " 'model.layers.3.mlp.gate_proj.weight',\n",
      " 'model.layers.3.mlp.up_proj.weight',\n",
      " 'model.layers.3.post_attention_layernorm.weight',\n",
      " 'model.layers.3.self_attn.k_proj.weight',\n",
      " 'model.layers.3.self_attn.o_proj.weight',\n",
      " 'model.layers.3.self_attn.q_proj.weight',\n",
      " 'model.layers.3.self_attn.v_proj.weight',\n",
      " 'model.layers.4.input_layernorm.weight',\n",
      " 'model.layers.4.mlp.down_proj.weight',\n",
      " 'model.layers.4.mlp.gate_proj.weight',\n",
      " 'model.layers.4.mlp.up_proj.weight',\n",
      " 'model.layers.4.post_attention_layernorm.weight',\n",
      " 'model.layers.4.self_attn.k_proj.weight',\n",
      " 'model.layers.4.self_attn.o_proj.weight',\n",
      " 'model.layers.4.self_attn.q_proj.weight',\n",
      " 'model.layers.4.self_attn.v_proj.weight',\n",
      " 'model.layers.5.input_layernorm.weight',\n",
      " 'model.layers.5.mlp.down_proj.weight',\n",
      " 'model.layers.5.mlp.gate_proj.weight',\n",
      " 'model.layers.5.mlp.up_proj.weight',\n",
      " 'model.layers.5.post_attention_layernorm.weight',\n",
      " 'model.layers.5.self_attn.k_proj.weight',\n",
      " 'model.layers.5.self_attn.o_proj.weight',\n",
      " 'model.layers.5.self_attn.q_proj.weight',\n",
      " 'model.layers.5.self_attn.v_proj.weight',\n",
      " 'model.layers.6.input_layernorm.weight',\n",
      " 'model.layers.6.mlp.down_proj.weight',\n",
      " 'model.layers.6.mlp.gate_proj.weight',\n",
      " 'model.layers.6.mlp.up_proj.weight',\n",
      " 'model.layers.6.post_attention_layernorm.weight',\n",
      " 'model.layers.6.self_attn.k_proj.weight',\n",
      " 'model.layers.6.self_attn.o_proj.weight',\n",
      " 'model.layers.6.self_attn.q_proj.weight',\n",
      " 'model.layers.6.self_attn.v_proj.weight',\n",
      " 'model.layers.7.input_layernorm.weight',\n",
      " 'model.layers.7.mlp.down_proj.weight',\n",
      " 'model.layers.7.mlp.gate_proj.weight',\n",
      " 'model.layers.7.mlp.up_proj.weight',\n",
      " 'model.layers.7.post_attention_layernorm.weight',\n",
      " 'model.layers.7.self_attn.k_proj.weight',\n",
      " 'model.layers.7.self_attn.o_proj.weight',\n",
      " 'model.layers.7.self_attn.q_proj.weight',\n",
      " 'model.layers.7.self_attn.v_proj.weight',\n",
      " 'model.layers.8.input_layernorm.weight',\n",
      " 'model.layers.8.mlp.down_proj.weight',\n",
      " 'model.layers.8.mlp.gate_proj.weight',\n",
      " 'model.layers.8.mlp.up_proj.weight',\n",
      " 'model.layers.8.post_attention_layernorm.weight',\n",
      " 'model.layers.8.self_attn.k_proj.weight',\n",
      " 'model.layers.8.self_attn.o_proj.weight',\n",
      " 'model.layers.8.self_attn.q_proj.weight',\n",
      " 'model.layers.8.self_attn.v_proj.weight',\n",
      " 'model.layers.10.input_layernorm.weight',\n",
      " 'model.layers.10.mlp.down_proj.weight',\n",
      " 'model.layers.10.mlp.gate_proj.weight',\n",
      " 'model.layers.10.mlp.up_proj.weight',\n",
      " 'model.layers.10.post_attention_layernorm.weight',\n",
      " 'model.layers.10.self_attn.k_proj.weight',\n",
      " 'model.layers.10.self_attn.o_proj.weight',\n",
      " 'model.layers.10.self_attn.q_proj.weight',\n",
      " 'model.layers.10.self_attn.v_proj.weight',\n",
      " 'model.layers.11.input_layernorm.weight',\n",
      " 'model.layers.11.mlp.down_proj.weight',\n",
      " 'model.layers.11.mlp.gate_proj.weight',\n",
      " 'model.layers.11.mlp.up_proj.weight',\n",
      " 'model.layers.11.post_attention_layernorm.weight',\n",
      " 'model.layers.11.self_attn.k_proj.weight',\n",
      " 'model.layers.11.self_attn.o_proj.weight',\n",
      " 'model.layers.11.self_attn.q_proj.weight',\n",
      " 'model.layers.11.self_attn.v_proj.weight',\n",
      " 'model.layers.12.input_layernorm.weight',\n",
      " 'model.layers.12.mlp.down_proj.weight',\n",
      " 'model.layers.12.mlp.gate_proj.weight',\n",
      " 'model.layers.12.mlp.up_proj.weight',\n",
      " 'model.layers.12.post_attention_layernorm.weight',\n",
      " 'model.layers.12.self_attn.k_proj.weight',\n",
      " 'model.layers.12.self_attn.o_proj.weight',\n",
      " 'model.layers.12.self_attn.q_proj.weight',\n",
      " 'model.layers.12.self_attn.v_proj.weight',\n",
      " 'model.layers.13.input_layernorm.weight',\n",
      " 'model.layers.13.mlp.down_proj.weight',\n",
      " 'model.layers.13.mlp.gate_proj.weight',\n",
      " 'model.layers.13.mlp.up_proj.weight',\n",
      " 'model.layers.13.post_attention_layernorm.weight',\n",
      " 'model.layers.13.self_attn.k_proj.weight',\n",
      " 'model.layers.13.self_attn.o_proj.weight',\n",
      " 'model.layers.13.self_attn.q_proj.weight',\n",
      " 'model.layers.13.self_attn.v_proj.weight',\n",
      " 'model.layers.14.input_layernorm.weight',\n",
      " 'model.layers.14.mlp.down_proj.weight',\n",
      " 'model.layers.14.mlp.gate_proj.weight',\n",
      " 'model.layers.14.mlp.up_proj.weight',\n",
      " 'model.layers.14.post_attention_layernorm.weight',\n",
      " 'model.layers.14.self_attn.k_proj.weight',\n",
      " 'model.layers.14.self_attn.o_proj.weight',\n",
      " 'model.layers.14.self_attn.q_proj.weight',\n",
      " 'model.layers.14.self_attn.v_proj.weight',\n",
      " 'model.layers.15.input_layernorm.weight',\n",
      " 'model.layers.15.mlp.down_proj.weight',\n",
      " 'model.layers.15.mlp.gate_proj.weight',\n",
      " 'model.layers.15.mlp.up_proj.weight',\n",
      " 'model.layers.15.post_attention_layernorm.weight',\n",
      " 'model.layers.15.self_attn.k_proj.weight',\n",
      " 'model.layers.15.self_attn.o_proj.weight',\n",
      " 'model.layers.15.self_attn.q_proj.weight',\n",
      " 'model.layers.15.self_attn.v_proj.weight',\n",
      " 'model.layers.16.input_layernorm.weight',\n",
      " 'model.layers.16.mlp.down_proj.weight',\n",
      " 'model.layers.16.mlp.gate_proj.weight',\n",
      " 'model.layers.16.mlp.up_proj.weight',\n",
      " 'model.layers.16.post_attention_layernorm.weight',\n",
      " 'model.layers.16.self_attn.k_proj.weight',\n",
      " 'model.layers.16.self_attn.o_proj.weight',\n",
      " 'model.layers.16.self_attn.q_proj.weight',\n",
      " 'model.layers.16.self_attn.v_proj.weight',\n",
      " 'model.layers.17.input_layernorm.weight',\n",
      " 'model.layers.17.mlp.down_proj.weight',\n",
      " 'model.layers.17.mlp.gate_proj.weight',\n",
      " 'model.layers.17.mlp.up_proj.weight',\n",
      " 'model.layers.17.post_attention_layernorm.weight',\n",
      " 'model.layers.17.self_attn.k_proj.weight',\n",
      " 'model.layers.17.self_attn.o_proj.weight',\n",
      " 'model.layers.17.self_attn.q_proj.weight',\n",
      " 'model.layers.17.self_attn.v_proj.weight',\n",
      " 'model.layers.18.input_layernorm.weight',\n",
      " 'model.layers.18.mlp.down_proj.weight',\n",
      " 'model.layers.18.mlp.gate_proj.weight',\n",
      " 'model.layers.18.mlp.up_proj.weight',\n",
      " 'model.layers.18.post_attention_layernorm.weight',\n",
      " 'model.layers.18.self_attn.k_proj.weight',\n",
      " 'model.layers.18.self_attn.o_proj.weight',\n",
      " 'model.layers.18.self_attn.q_proj.weight',\n",
      " 'model.layers.18.self_attn.v_proj.weight',\n",
      " 'model.layers.19.input_layernorm.weight',\n",
      " 'model.layers.19.mlp.down_proj.weight',\n",
      " 'model.layers.19.mlp.gate_proj.weight',\n",
      " 'model.layers.19.mlp.up_proj.weight',\n",
      " 'model.layers.19.post_attention_layernorm.weight',\n",
      " 'model.layers.19.self_attn.k_proj.weight',\n",
      " 'model.layers.19.self_attn.o_proj.weight',\n",
      " 'model.layers.19.self_attn.q_proj.weight',\n",
      " 'model.layers.19.self_attn.v_proj.weight',\n",
      " 'model.layers.20.mlp.gate_proj.weight',\n",
      " 'model.layers.20.self_attn.k_proj.weight',\n",
      " 'model.layers.20.self_attn.o_proj.weight',\n",
      " 'model.layers.20.self_attn.q_proj.weight',\n",
      " 'model.layers.20.self_attn.v_proj.weight',\n",
      " 'model.layers.9.input_layernorm.weight',\n",
      " 'model.layers.9.mlp.down_proj.weight',\n",
      " 'model.layers.9.mlp.gate_proj.weight',\n",
      " 'model.layers.9.mlp.up_proj.weight',\n",
      " 'model.layers.9.post_attention_layernorm.weight',\n",
      " 'model.layers.9.self_attn.k_proj.weight',\n",
      " 'model.layers.9.self_attn.o_proj.weight',\n",
      " 'model.layers.9.self_attn.q_proj.weight',\n",
      " 'model.layers.9.self_attn.v_proj.weight',\n",
      " 'model.layers.20.input_layernorm.weight',\n",
      " 'model.layers.20.mlp.down_proj.weight',\n",
      " 'model.layers.20.mlp.up_proj.weight',\n",
      " 'model.layers.20.post_attention_layernorm.weight',\n",
      " 'model.layers.21.input_layernorm.weight',\n",
      " 'model.layers.21.mlp.down_proj.weight',\n",
      " 'model.layers.21.mlp.gate_proj.weight',\n",
      " 'model.layers.21.mlp.up_proj.weight',\n",
      " 'model.layers.21.post_attention_layernorm.weight',\n",
      " 'model.layers.21.self_attn.k_proj.weight',\n",
      " 'model.layers.21.self_attn.o_proj.weight',\n",
      " 'model.layers.21.self_attn.q_proj.weight',\n",
      " 'model.layers.21.self_attn.v_proj.weight',\n",
      " 'model.layers.22.input_layernorm.weight',\n",
      " 'model.layers.22.mlp.down_proj.weight',\n",
      " 'model.layers.22.mlp.gate_proj.weight',\n",
      " 'model.layers.22.mlp.up_proj.weight',\n",
      " 'model.layers.22.post_attention_layernorm.weight',\n",
      " 'model.layers.22.self_attn.k_proj.weight',\n",
      " 'model.layers.22.self_attn.o_proj.weight',\n",
      " 'model.layers.22.self_attn.q_proj.weight',\n",
      " 'model.layers.22.self_attn.v_proj.weight',\n",
      " 'model.layers.23.input_layernorm.weight',\n",
      " 'model.layers.23.mlp.down_proj.weight',\n",
      " 'model.layers.23.mlp.gate_proj.weight',\n",
      " 'model.layers.23.mlp.up_proj.weight',\n",
      " 'model.layers.23.post_attention_layernorm.weight',\n",
      " 'model.layers.23.self_attn.k_proj.weight',\n",
      " 'model.layers.23.self_attn.o_proj.weight',\n",
      " 'model.layers.23.self_attn.q_proj.weight',\n",
      " 'model.layers.23.self_attn.v_proj.weight',\n",
      " 'model.layers.24.input_layernorm.weight',\n",
      " 'model.layers.24.mlp.down_proj.weight',\n",
      " 'model.layers.24.mlp.gate_proj.weight',\n",
      " 'model.layers.24.mlp.up_proj.weight',\n",
      " 'model.layers.24.post_attention_layernorm.weight',\n",
      " 'model.layers.24.self_attn.k_proj.weight',\n",
      " 'model.layers.24.self_attn.o_proj.weight',\n",
      " 'model.layers.24.self_attn.q_proj.weight',\n",
      " 'model.layers.24.self_attn.v_proj.weight',\n",
      " 'model.layers.25.input_layernorm.weight',\n",
      " 'model.layers.25.mlp.down_proj.weight',\n",
      " 'model.layers.25.mlp.gate_proj.weight',\n",
      " 'model.layers.25.mlp.up_proj.weight',\n",
      " 'model.layers.25.post_attention_layernorm.weight',\n",
      " 'model.layers.25.self_attn.k_proj.weight',\n",
      " 'model.layers.25.self_attn.o_proj.weight',\n",
      " 'model.layers.25.self_attn.q_proj.weight',\n",
      " 'model.layers.25.self_attn.v_proj.weight',\n",
      " 'model.layers.26.input_layernorm.weight',\n",
      " 'model.layers.26.mlp.down_proj.weight',\n",
      " 'model.layers.26.mlp.gate_proj.weight',\n",
      " 'model.layers.26.mlp.up_proj.weight',\n",
      " 'model.layers.26.post_attention_layernorm.weight',\n",
      " 'model.layers.26.self_attn.k_proj.weight',\n",
      " 'model.layers.26.self_attn.o_proj.weight',\n",
      " 'model.layers.26.self_attn.q_proj.weight',\n",
      " 'model.layers.26.self_attn.v_proj.weight',\n",
      " 'model.layers.27.input_layernorm.weight',\n",
      " 'model.layers.27.mlp.down_proj.weight',\n",
      " 'model.layers.27.mlp.gate_proj.weight',\n",
      " 'model.layers.27.mlp.up_proj.weight',\n",
      " 'model.layers.27.post_attention_layernorm.weight',\n",
      " 'model.layers.27.self_attn.k_proj.weight',\n",
      " 'model.layers.27.self_attn.o_proj.weight',\n",
      " 'model.layers.27.self_attn.q_proj.weight',\n",
      " 'model.layers.27.self_attn.v_proj.weight',\n",
      " 'model.layers.28.input_layernorm.weight',\n",
      " 'model.layers.28.mlp.down_proj.weight',\n",
      " 'model.layers.28.mlp.gate_proj.weight',\n",
      " 'model.layers.28.mlp.up_proj.weight',\n",
      " 'model.layers.28.post_attention_layernorm.weight',\n",
      " 'model.layers.28.self_attn.k_proj.weight',\n",
      " 'model.layers.28.self_attn.o_proj.weight',\n",
      " 'model.layers.28.self_attn.q_proj.weight',\n",
      " 'model.layers.28.self_attn.v_proj.weight',\n",
      " 'model.layers.29.input_layernorm.weight',\n",
      " 'model.layers.29.mlp.down_proj.weight',\n",
      " 'model.layers.29.mlp.gate_proj.weight',\n",
      " 'model.layers.29.mlp.up_proj.weight',\n",
      " 'model.layers.29.post_attention_layernorm.weight',\n",
      " 'model.layers.29.self_attn.k_proj.weight',\n",
      " 'model.layers.29.self_attn.o_proj.weight',\n",
      " 'model.layers.29.self_attn.q_proj.weight',\n",
      " 'model.layers.29.self_attn.v_proj.weight',\n",
      " 'model.layers.30.input_layernorm.weight',\n",
      " 'model.layers.30.mlp.down_proj.weight',\n",
      " 'model.layers.30.mlp.gate_proj.weight',\n",
      " 'model.layers.30.mlp.up_proj.weight',\n",
      " 'model.layers.30.post_attention_layernorm.weight',\n",
      " 'model.layers.30.self_attn.k_proj.weight',\n",
      " 'model.layers.30.self_attn.o_proj.weight',\n",
      " 'model.layers.30.self_attn.q_proj.weight',\n",
      " 'model.layers.30.self_attn.v_proj.weight',\n",
      " 'model.layers.31.mlp.gate_proj.weight',\n",
      " 'model.layers.31.mlp.up_proj.weight',\n",
      " 'model.layers.31.self_attn.k_proj.weight',\n",
      " 'model.layers.31.self_attn.o_proj.weight',\n",
      " 'model.layers.31.self_attn.q_proj.weight',\n",
      " 'model.layers.31.self_attn.v_proj.weight',\n",
      " 'lm_head.weight',\n",
      " 'model.layers.31.input_layernorm.weight',\n",
      " 'model.layers.31.mlp.down_proj.weight',\n",
      " 'model.layers.31.post_attention_layernorm.weight',\n",
      " 'model.norm.weight']\n"
     ]
    }
   ],
   "source": [
    "pprint(model_parser.tensor_names)"
   ]
  },
  {
   "cell_type": "markdown",
   "id": "62ba4793-b1c3-4e06-987a-e976bd1bfc82",
   "metadata": {},
   "source": [
    "## Prepare text and embeddings"
   ]
  },
  {
   "cell_type": "code",
   "execution_count": 3,
   "id": "6dd5102a-1958-46e7-b4f1-b8a1d7e17d82",
   "metadata": {},
   "outputs": [
    {
     "name": "stderr",
     "output_type": "stream",
     "text": [
      "Special tokens have been added in the vocabulary, make sure the associated word embeddings are fine-tuned or trained.\n"
     ]
    }
   ],
   "source": [
    "tokenizer = AutoTokenizer.from_pretrained(\"../Meta-Llama-3-8B/\")"
   ]
  },
  {
   "cell_type": "code",
   "execution_count": 4,
   "id": "fa4ab6c6-2a78-4982-b561-bd1247d65a15",
   "metadata": {},
   "outputs": [
    {
     "name": "stderr",
     "output_type": "stream",
     "text": [
      "\n",
      "No chat template is defined for this tokenizer - using a default chat template that implements the ChatML format (without BOS/EOS tokens!). If the default is not appropriate for your model, please set `tokenizer.chat_template` to an appropriate template. See https://huggingface.co/docs/transformers/main/chat_templating for more information.\n",
      "\n"
     ]
    }
   ],
   "source": [
    "messages = [\n",
    "    {\"role\": \"system\", \"content\": \"You are a pirate chatbot who always responds in pirate speak!\"},\n",
    "    {\"role\": \"user\", \"content\": \"Who are you?\"},\n",
    "]\n",
    "\n",
    "input_ids = tokenizer.apply_chat_template(\n",
    "    messages,\n",
    "    add_generation_prompt=True,\n",
    "    return_tensors=\"pt\"\n",
    ")#.to(model.device)\n",
    "\n",
    "terminators = [\n",
    "    tokenizer.eos_token_id,\n",
    "    tokenizer.convert_tokens_to_ids(\"<|eot_id|>\")\n",
    "]"
   ]
  },
  {
   "cell_type": "code",
   "execution_count": 5,
   "id": "befdb093-2276-4cb4-b8af-884226ee8cce",
   "metadata": {},
   "outputs": [
    {
     "data": {
      "text/plain": [
       "tensor([[   27,    91,   318,  5011,    91,    29,  9125,   198,  2675,   527,\n",
       "           264, 55066,  6369,  6465,   889,  2744, 31680,   304, 55066,  6604,\n",
       "         88032,    91,   318,  6345,    91,   397,    27,    91,   318,  5011,\n",
       "            91,    29,   882,   198, 15546,   527,   499, 76514,    91,   318,\n",
       "          6345,    91,   397,    27,    91,   318,  5011,    91,    29, 78191,\n",
       "           198]])"
      ]
     },
     "execution_count": 5,
     "metadata": {},
     "output_type": "execute_result"
    }
   ],
   "source": [
    "input_ids"
   ]
  },
  {
   "cell_type": "markdown",
   "id": "ef0d4133-d19f-4c83-88f3-688b4b888968",
   "metadata": {},
   "source": [
    "## Forward passes"
   ]
  },
  {
   "cell_type": "code",
   "execution_count": 3,
   "id": "4157b600-35ae-4d49-adb3-915c8581bf9a",
   "metadata": {},
   "outputs": [],
   "source": [
    "# load testing data\n",
    "import pickle\n",
    "with open(\"intermediate_data_meta_llama3_8b.pkl\", \"rb\") as f:\n",
    "    data_orig = pickle.load(f)"
   ]
  },
  {
   "cell_type": "code",
   "execution_count": 4,
   "id": "8c1ffc14-2f83-49a6-98df-a2cd5c7ed1b7",
   "metadata": {},
   "outputs": [],
   "source": [
    "from transformer_ops import embedding_matrix, RMSNorm, Attention, FFN, remap_weights_if_needed"
   ]
  },
  {
   "cell_type": "code",
   "execution_count": 5,
   "id": "c1c30155-42ed-45f8-9f9c-1362aae6dfcc",
   "metadata": {},
   "outputs": [
    {
     "name": "stderr",
     "output_type": "stream",
     "text": [
      "/home/alexo/projects/llama3/experiments/llama_experiments/utils/utils.py:42: UserWarning: The given buffer is not writable, and PyTorch does not support non-writable tensors. This means you can write to the underlying (supposedly non-writable) buffer using the tensor. You may want to copy the buffer to protect its data or make it writable before converting it to a tensor. This type of warning will be suppressed for the rest of this program. (Triggered internally at /opt/pytorch/pytorch/torch/csrc/utils/tensor_new.cpp:1524.)\n",
      "  parsed_vals = torch.frombuffer(tensor, dtype=torch.bfloat16).reshape(shape)\n"
     ]
    },
    {
     "ename": "NameError",
     "evalue": "name 'input_ids' is not defined",
     "output_type": "error",
     "traceback": [
      "\u001b[0;31m---------------------------------------------------------------------------\u001b[0m",
      "\u001b[0;31mNameError\u001b[0m                                 Traceback (most recent call last)",
      "Cell \u001b[0;32mIn[5], line 2\u001b[0m\n\u001b[1;32m      1\u001b[0m model_embed_tokens_weight \u001b[38;5;241m=\u001b[39m model_parser\u001b[38;5;241m.\u001b[39mget_tensor(\u001b[38;5;124m'\u001b[39m\u001b[38;5;124mmodel.embed_tokens.weight\u001b[39m\u001b[38;5;124m'\u001b[39m)\n\u001b[0;32m----> 2\u001b[0m input_embeddings \u001b[38;5;241m=\u001b[39m embedding_matrix(inputs\u001b[38;5;241m=\u001b[39m\u001b[43minput_ids\u001b[49m, weights\u001b[38;5;241m=\u001b[39mmodel_embed_tokens_weight)\n",
      "\u001b[0;31mNameError\u001b[0m: name 'input_ids' is not defined"
     ]
    }
   ],
   "source": [
    "model_embed_tokens_weight = model_parser.get_tensor('model.embed_tokens.weight')\n",
    "input_embeddings = embedding_matrix(inputs=input_ids, weights=model_embed_tokens_weight)"
   ]
  },
  {
   "cell_type": "code",
   "execution_count": 5,
   "id": "9f0adf43-e4e8-4fdb-8a12-1a561274d656",
   "metadata": {},
   "outputs": [],
   "source": [
    "model_layers_0_input_layernorm = RMSNorm()\n",
    "model_layers_0_post_attention_layernorm = RMSNorm()"
   ]
  },
  {
   "cell_type": "code",
   "execution_count": 6,
   "id": "33bf6d61-713f-4f4f-9f0c-492169f73eb2",
   "metadata": {},
   "outputs": [],
   "source": [
    "model_layers_0_input_layernorm_weight = model_parser.get_tensor('model.layers.0.input_layernorm.weight')\n",
    "model_layers_0_post_attention_layernorm_weight = model_parser.get_tensor('model.layers.0.post_attention_layernorm.weight')"
   ]
  },
  {
   "cell_type": "code",
   "execution_count": 7,
   "id": "2d368cb2-5103-4c21-ade9-6ffe3589307b",
   "metadata": {},
   "outputs": [
    {
     "data": {
      "text/plain": [
       "True"
      ]
     },
     "execution_count": 7,
     "metadata": {},
     "output_type": "execute_result"
    }
   ],
   "source": [
    "torch.allclose(\n",
    "    model_layers_0_input_layernorm.forward(inputs=data_orig[\"inputs\"][\"layers.0.attention_norm\"][0].cpu(), weights=model_layers_0_input_layernorm_weight),\n",
    "    data_orig[\"outputs\"][\"layers.0.attention_norm\"].cpu()\n",
    ")"
   ]
  },
  {
   "cell_type": "code",
   "execution_count": 8,
   "id": "660a20c6-fc00-4ef9-b30e-137c263d93c4",
   "metadata": {},
   "outputs": [
    {
     "data": {
      "text/plain": [
       "True"
      ]
     },
     "execution_count": 8,
     "metadata": {},
     "output_type": "execute_result"
    }
   ],
   "source": [
    "torch.allclose(\n",
    "    model_layers_0_post_attention_layernorm.forward(inputs=data_orig[\"inputs\"][\"layers.0.ffn_norm\"][0].cpu(), weights=model_layers_0_post_attention_layernorm_weight),\n",
    "    data_orig[\"outputs\"][\"layers.0.ffn_norm\"].cpu()\n",
    ")"
   ]
  },
  {
   "cell_type": "markdown",
   "id": "5d438d16-6ac5-4ba7-859d-4c647b3835df",
   "metadata": {},
   "source": [
    "## Test Rope and Attention modules"
   ]
  },
  {
   "cell_type": "code",
   "execution_count": 5,
   "id": "fd952cd0-6945-437d-813d-dc78c0aa7341",
   "metadata": {},
   "outputs": [],
   "source": [
    "config = {\n",
    "  \"architectures\": [\n",
    "    \"LlamaForCausalLM\"\n",
    "  ],\n",
    "  \"attention_bias\": False,\n",
    "  \"attention_dropout\": 0.0,\n",
    "  \"bos_token_id\": 128000,\n",
    "  \"eos_token_id\": 128001,\n",
    "  \"hidden_act\": \"silu\",\n",
    "  \"hidden_size\": 4096,\n",
    "  \"initializer_range\": 0.02,\n",
    "  \"intermediate_size\": 14336,\n",
    "  \"max_position_embeddings\": 8192,\n",
    "  \"model_type\": \"llama\",\n",
    "  \"num_attention_heads\": 32,\n",
    "  \"num_hidden_layers\": 32,\n",
    "  \"num_key_value_heads\": 8,\n",
    "  \"pretraining_tp\": 1,\n",
    "  \"rms_norm_eps\": 1e-05,\n",
    "  \"rope_scaling\": None,\n",
    "  \"rope_theta\": 500000.0,\n",
    "  \"tie_word_embeddings\": False,\n",
    "  \"torch_dtype\": torch.bfloat16,\n",
    "  \"transformers_version\": \"4.40.0.dev0\",\n",
    "  \"use_cache\": True,\n",
    "  \"vocab_size\": 128256\n",
    "}\n",
    "\n",
    "def precompute_rope_constants(dim: int, end: int, theta: float = 10000.0):\n",
    "    \"\"\"\n",
    "    RoPE:\n",
    "        - https://blog.eleuther.ai/rotary-embeddings/\n",
    "        - https://github.com/meta-llama/llama3/blob/main/llama/model.py\n",
    "    \"\"\" \n",
    "    freqs = 1.0 / (theta ** (torch.arange(0, dim, 2)[: (dim // 2)].float() / dim))\n",
    "    t = torch.arange(end, device=freqs.device, dtype=torch.float32)\n",
    "    freqs = torch.outer(t, freqs)\n",
    "    freqs_cis = torch.polar(torch.ones_like(freqs), freqs)  # complex64\n",
    "    return freqs_cis"
   ]
  },
  {
   "cell_type": "code",
   "execution_count": 6,
   "id": "f47c786f-e9e1-4473-bc04-b8716c4bf0cb",
   "metadata": {},
   "outputs": [],
   "source": [
    "freqs_rope = precompute_rope_constants(\n",
    "    config[\"hidden_size\"] // config[\"num_attention_heads\"],\n",
    "    config[\"max_position_embeddings\"] * 2,\n",
    "    config[\"rope_theta\"],\n",
    ")"
   ]
  },
  {
   "cell_type": "code",
   "execution_count": 7,
   "id": "ed4bffc0-25fe-4f04-b835-60f450ceffc1",
   "metadata": {},
   "outputs": [
    {
     "data": {
      "text/plain": [
       "torch.Size([16384, 64])"
      ]
     },
     "execution_count": 7,
     "metadata": {},
     "output_type": "execute_result"
    }
   ],
   "source": [
    "freqs_rope.shape"
   ]
  },
  {
   "cell_type": "code",
   "execution_count": 8,
   "id": "763bd063-81f7-4d5b-af9c-08ba81d8b00c",
   "metadata": {},
   "outputs": [],
   "source": [
    "# Loads all weights for an attention module, renaming and remapping weights if needed\n",
    "layer_idx = 0\n",
    "attn_weights = {}\n",
    "for letter in ['q', 'k', 'v', 'o']:\n",
    "    orig_key = f'model.layers.{layer_idx}.self_attn.{letter}_proj.weight'\n",
    "    new_key = f'self_attn.{letter}_proj.weight'\n",
    "    attn_weights[new_key] = remap_weights_if_needed(model_parser.get_tensor(orig_key), param_name=orig_key, config=config)"
   ]
  },
  {
   "cell_type": "code",
   "execution_count": 9,
   "id": "907b715a-4ee8-44a1-af8f-7e18563ea5bf",
   "metadata": {},
   "outputs": [],
   "source": [
    "attention_0 = Attention(config, max_seq_len=128)"
   ]
  },
  {
   "cell_type": "code",
   "execution_count": 10,
   "id": "fbfd4d64-3394-4931-ae83-1cf7d44b748d",
   "metadata": {},
   "outputs": [
    {
     "name": "stdout",
     "output_type": "stream",
     "text": [
      "torch.Size([1, 72, 4096])\n",
      "torch.Size([1, 72, 4096])\n"
     ]
    }
   ],
   "source": [
    "# inputs to attention's projections are going to be the same for each projection MLP, and this input also corresponds to the attention block input\n",
    "attn_block_input_orig = data_orig[\"inputs\"][\"layers.0.attention\"][0].cpu()\n",
    "attn_block_output_orig = data_orig[\"outputs\"][\"layers.0.attention.wo\"].cpu()\n",
    "\n",
    "print(attn_block_input_orig.shape)\n",
    "print(attn_block_input_orig.shape)"
   ]
  },
  {
   "cell_type": "code",
   "execution_count": 11,
   "id": "25be0db1-6682-4fc1-adf1-42763bd0f3a2",
   "metadata": {},
   "outputs": [],
   "source": [
    "start_pos = 0\n",
    "seq_len = attn_block_input_orig.shape[1]\n",
    "\n",
    "mask = None\n",
    "if seq_len > 1:\n",
    "    mask = torch.full((seq_len, seq_len), float(\"-inf\"))#, device=tokens.device)\n",
    "\n",
    "    mask = torch.triu(mask, diagonal=1)\n",
    "\n",
    "    # When performing key-value caching, we compute the attention scores\n",
    "    # only for the new sequence. Thus, the matrix of scores is of size\n",
    "    # (seqlen, cache_len + seqlen), and the only masked entries are (i, j) for\n",
    "    # j > cache_len + i, since row i corresponds to token cache_len + i.\n",
    "    mask = torch.hstack(\n",
    "        #[torch.zeros((seq_len, start_pos), device=tokens.device), mask]\n",
    "        [torch.zeros((seq_len, start_pos)), mask]\n",
    "    ).to(torch.bfloat16)#.type_as(h)"
   ]
  },
  {
   "cell_type": "code",
   "execution_count": 12,
   "id": "450df63a-8c3d-4a05-aace-aacb5c366536",
   "metadata": {},
   "outputs": [
    {
     "data": {
      "text/plain": [
       "True"
      ]
     },
     "execution_count": 12,
     "metadata": {},
     "output_type": "execute_result"
    }
   ],
   "source": [
    "torch.allclose(\n",
    "    data_orig[\"inputs\"][\"layers.0.attention\"][2].cpu(), freqs_rope[start_pos:start_pos+seq_len]\n",
    ")"
   ]
  },
  {
   "cell_type": "code",
   "execution_count": 13,
   "id": "889ae160-4ac0-41be-9d52-d4781f80a820",
   "metadata": {},
   "outputs": [
    {
     "data": {
      "text/plain": [
       "True"
      ]
     },
     "execution_count": 13,
     "metadata": {},
     "output_type": "execute_result"
    }
   ],
   "source": [
    "torch.allclose(\n",
    "    data_orig[\"inputs\"][\"layers.0.attention\"][2].cpu(), freqs_rope[start_pos:start_pos+seq_len]\n",
    ")"
   ]
  },
  {
   "cell_type": "code",
   "execution_count": 14,
   "id": "39506c86-e256-4a2a-8557-d9a6714e270e",
   "metadata": {},
   "outputs": [],
   "source": [
    "attn_block_out_ours = attention_0.forward(attn_block_input_orig, start_pos, weights=attn_weights, mask=mask, freqs_rope=freqs_rope[start_pos:start_pos+seq_len])"
   ]
  },
  {
   "cell_type": "code",
   "execution_count": 15,
   "id": "38bc4969-2a85-41f0-828b-fb1262886685",
   "metadata": {},
   "outputs": [
    {
     "data": {
      "text/plain": [
       "False"
      ]
     },
     "execution_count": 15,
     "metadata": {},
     "output_type": "execute_result"
    }
   ],
   "source": [
    "torch.allclose(\n",
    "    attn_block_out_ours, attn_block_output_orig\n",
    ")"
   ]
  },
  {
   "cell_type": "code",
   "execution_count": 16,
   "id": "82c7881a-b7ec-485a-becc-0c1c8e02659e",
   "metadata": {},
   "outputs": [
    {
     "data": {
      "text/plain": [
       "True"
      ]
     },
     "execution_count": 16,
     "metadata": {},
     "output_type": "execute_result"
    }
   ],
   "source": [
    "torch.allclose(\n",
    "    attn_block_input_orig,\n",
    "    data_orig[\"inputs\"][\"layers.0.attention.wq\"][0].cpu()\n",
    ")"
   ]
  },
  {
   "cell_type": "code",
   "execution_count": 17,
   "id": "e9bc033e-80e8-4c43-ba66-4993c656fed0",
   "metadata": {},
   "outputs": [
    {
     "data": {
      "text/plain": [
       "True"
      ]
     },
     "execution_count": 17,
     "metadata": {},
     "output_type": "execute_result"
    }
   ],
   "source": [
    "torch.allclose(\n",
    "    attn_block_input_orig,\n",
    "    data_orig[\"inputs\"][\"layers.0.attention.wk\"][0].cpu()\n",
    ")"
   ]
  },
  {
   "cell_type": "code",
   "execution_count": 18,
   "id": "54687e32-fda6-4853-a464-b209b9102516",
   "metadata": {},
   "outputs": [
    {
     "data": {
      "text/plain": [
       "True"
      ]
     },
     "execution_count": 18,
     "metadata": {},
     "output_type": "execute_result"
    }
   ],
   "source": [
    "torch.allclose(\n",
    "    data_orig[\"outputs\"][\"layers.0.attention.wq\"].cuda(),\n",
    "    torch.nn.functional.linear(data_orig[\"inputs\"][\"layers.0.attention.wq\"][0].cuda(), attn_weights[\"self_attn.q_proj.weight\"].cuda())\n",
    ")"
   ]
  },
  {
   "cell_type": "code",
   "execution_count": 19,
   "id": "137b0008-1397-4dfd-b154-9ba09729fd3a",
   "metadata": {},
   "outputs": [
    {
     "data": {
      "text/plain": [
       "True"
      ]
     },
     "execution_count": 19,
     "metadata": {},
     "output_type": "execute_result"
    }
   ],
   "source": [
    "torch.allclose(\n",
    "    data_orig[\"outputs\"][\"layers.0.attention.wk\"].cuda(),\n",
    "    torch.nn.functional.linear(data_orig[\"inputs\"][\"layers.0.attention.wk\"][0].cuda(), attn_weights[\"self_attn.k_proj.weight\"].cuda())\n",
    ")"
   ]
  },
  {
   "cell_type": "code",
   "execution_count": 20,
   "id": "5e195679-eb17-4029-a18c-4455b2520e9b",
   "metadata": {},
   "outputs": [
    {
     "data": {
      "text/plain": [
       "True"
      ]
     },
     "execution_count": 20,
     "metadata": {},
     "output_type": "execute_result"
    }
   ],
   "source": [
    "torch.allclose(\n",
    "    data_orig[\"outputs\"][\"layers.0.attention.wv\"].cuda(),\n",
    "    torch.nn.functional.linear(data_orig[\"inputs\"][\"layers.0.attention.wv\"][0].cuda(), attn_weights[\"self_attn.v_proj.weight\"].cuda())\n",
    ")"
   ]
  },
  {
   "cell_type": "code",
   "execution_count": 21,
   "id": "6d38987c-9c41-4df5-a2b3-24785180d750",
   "metadata": {},
   "outputs": [
    {
     "data": {
      "text/plain": [
       "True"
      ]
     },
     "execution_count": 21,
     "metadata": {},
     "output_type": "execute_result"
    }
   ],
   "source": [
    "torch.allclose(\n",
    "    data_orig[\"outputs\"][\"layers.0.attention.wo\"].cuda(),\n",
    "    torch.nn.functional.linear(data_orig[\"inputs\"][\"layers.0.attention.wo\"][0].cuda(), attn_weights[\"self_attn.o_proj.weight\"].cuda())\n",
    ")"
   ]
  },
  {
   "cell_type": "markdown",
   "id": "7b5e01f1-378f-494e-b1c0-6ca296ca2b33",
   "metadata": {},
   "source": [
    "## FFN"
   ]
  },
  {
   "cell_type": "code",
   "execution_count": 22,
   "id": "a140bf48-3dfd-42aa-8160-9594e33d2929",
   "metadata": {},
   "outputs": [],
   "source": [
    "ffn = FFN()"
   ]
  },
  {
   "cell_type": "code",
   "execution_count": 23,
   "id": "061eb322-336e-45bd-8475-604bb4415b8a",
   "metadata": {},
   "outputs": [],
   "source": [
    "ffn_weights = {\n",
    "    \"mlp.down_proj.weight\": model_parser.get_tensor('model.layers.0.mlp.down_proj.weight'),\n",
    "    \"mlp.gate_proj.weight\": model_parser.get_tensor('model.layers.0.mlp.gate_proj.weight'),\n",
    "    \"mlp.up_proj.weight\": model_parser.get_tensor('model.layers.0.mlp.up_proj.weight'),\n",
    "}"
   ]
  },
  {
   "cell_type": "code",
   "execution_count": 24,
   "id": "b896c1af-ca2c-4955-adab-bac8674f3002",
   "metadata": {},
   "outputs": [
    {
     "name": "stdout",
     "output_type": "stream",
     "text": [
      "torch.Size([1, 72, 4096])\n",
      "torch.Size([1, 72, 4096])\n"
     ]
    }
   ],
   "source": [
    "ffn_input_orig = data_orig[\"inputs\"][\"layers.0.feed_forward\"][0].cpu()\n",
    "ffn_output_orig = data_orig[\"outputs\"][\"layers.0.feed_forward\"].cpu()\n",
    "\n",
    "print(attn_block_input_orig.shape)\n",
    "print(attn_block_input_orig.shape)"
   ]
  },
  {
   "cell_type": "code",
   "execution_count": 25,
   "id": "9fcb8a86-39e2-40e7-9fe3-360a9d942094",
   "metadata": {},
   "outputs": [
    {
     "data": {
      "text/plain": [
       "torch.Size([1, 72, 4096])"
      ]
     },
     "execution_count": 25,
     "metadata": {},
     "output_type": "execute_result"
    }
   ],
   "source": [
    "ffn_input_orig.shape"
   ]
  },
  {
   "cell_type": "code",
   "execution_count": 26,
   "id": "36f03f39-ac64-4f37-acdb-f981959015a0",
   "metadata": {},
   "outputs": [],
   "source": [
    "ffn_output_ours = ffn.forward(ffn_input_orig, ffn_weights)"
   ]
  },
  {
   "cell_type": "code",
   "execution_count": 33,
   "id": "2d907bfd-77e2-4101-8c77-89cea12ab761",
   "metadata": {},
   "outputs": [
    {
     "data": {
      "text/plain": [
       "False"
      ]
     },
     "execution_count": 33,
     "metadata": {},
     "output_type": "execute_result"
    }
   ],
   "source": [
    "torch.allclose(\n",
    "    ffn_output_ours,\n",
    "    ffn_output_orig\n",
    ")"
   ]
  },
  {
   "cell_type": "code",
   "execution_count": 34,
   "id": "59d68266-cf1a-4c24-8ec4-50d1a962a3bc",
   "metadata": {},
   "outputs": [
    {
     "data": {
      "text/plain": [
       "tensor(4.7497e-08, dtype=torch.bfloat16)"
      ]
     },
     "execution_count": 34,
     "metadata": {},
     "output_type": "execute_result"
    }
   ],
   "source": [
    "torch.mean(\n",
    "    torch.abs(\n",
    "    ffn_output_ours - ffn_output_orig\n",
    "    )\n",
    ")"
   ]
  },
  {
   "cell_type": "code",
   "execution_count": 30,
   "id": "7f552df6-a24b-43b5-a6bd-aec608ea6233",
   "metadata": {},
   "outputs": [
    {
     "data": {
      "text/plain": [
       "tensor([[[ 1.0109e-04,  4.7607e-03, -5.7983e-03,  ...,  1.0010e-02,\n",
       "           4.0894e-03, -5.3711e-03],\n",
       "         [ 8.1787e-03,  2.7588e-02,  6.7139e-04,  ..., -4.6387e-02,\n",
       "          -2.4780e-02, -1.2451e-02],\n",
       "         [ 2.5787e-03,  1.1292e-03,  1.3611e-02,  ...,  3.0884e-02,\n",
       "          -1.7334e-02, -1.4709e-02],\n",
       "         ...,\n",
       "         [ 1.6689e-05,  7.6675e-04, -1.2283e-03,  ..., -6.7139e-04,\n",
       "          -7.6675e-04, -1.8883e-04],\n",
       "         [ 1.3530e-05,  7.4768e-04, -1.1902e-03,  ..., -6.5994e-04,\n",
       "          -7.4768e-04, -1.8501e-04],\n",
       "         [ 1.2279e-05,  7.3242e-04, -1.1673e-03,  ..., -6.4468e-04,\n",
       "          -7.2861e-04, -1.8215e-04]]], dtype=torch.bfloat16)"
      ]
     },
     "execution_count": 30,
     "metadata": {},
     "output_type": "execute_result"
    }
   ],
   "source": [
    "ffn_output_ours"
   ]
  },
  {
   "cell_type": "code",
   "execution_count": 31,
   "id": "b393bb6d-b9e4-4406-8737-b4f7a4fe974b",
   "metadata": {},
   "outputs": [
    {
     "data": {
      "text/plain": [
       "tensor([[[ 1.0109e-04,  4.7607e-03, -5.7983e-03,  ...,  1.0010e-02,\n",
       "           4.0894e-03, -5.3711e-03],\n",
       "         [ 8.1787e-03,  2.7588e-02,  6.7139e-04,  ..., -4.6387e-02,\n",
       "          -2.4780e-02, -1.2451e-02],\n",
       "         [ 2.5787e-03,  1.1292e-03,  1.3611e-02,  ...,  3.0884e-02,\n",
       "          -1.7334e-02, -1.4709e-02],\n",
       "         ...,\n",
       "         [ 1.6689e-05,  7.6675e-04, -1.2283e-03,  ..., -6.7139e-04,\n",
       "          -7.6675e-04, -1.8883e-04],\n",
       "         [ 1.3530e-05,  7.4768e-04, -1.1902e-03,  ..., -6.5994e-04,\n",
       "          -7.4768e-04, -1.8501e-04],\n",
       "         [ 1.2159e-05,  7.3242e-04, -1.1673e-03,  ..., -6.4468e-04,\n",
       "          -7.2861e-04, -1.8215e-04]]], dtype=torch.bfloat16)"
      ]
     },
     "execution_count": 31,
     "metadata": {},
     "output_type": "execute_result"
    }
   ],
   "source": [
    "ffn_output_orig"
   ]
  }
 ],
 "metadata": {
  "kernelspec": {
   "display_name": "Python 3 (ipykernel)",
   "language": "python",
   "name": "python3"
  },
  "language_info": {
   "codemirror_mode": {
    "name": "ipython",
    "version": 3
   },
   "file_extension": ".py",
   "mimetype": "text/x-python",
   "name": "python",
   "nbconvert_exporter": "python",
   "pygments_lexer": "ipython3",
   "version": "3.10.12"
  }
 },
 "nbformat": 4,
 "nbformat_minor": 5
}
