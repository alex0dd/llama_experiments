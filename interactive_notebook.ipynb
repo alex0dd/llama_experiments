{
 "cells": [
  {
   "cell_type": "code",
   "execution_count": 1,
   "id": "432f8e64-1fc5-4349-865c-8f4e6345023b",
   "metadata": {},
   "outputs": [],
   "source": [
    "from pprint import pprint\n",
    "from parsers import ModelParser\n",
    "\n",
    "import torch\n",
    "from transformers import AutoTokenizer\n",
    "\n",
    "model_parser = ModelParser([\n",
    "    \"../Meta-Llama-3-8B/model-00001-of-00004.safetensors\",\n",
    "])"
   ]
  },
  {
   "cell_type": "code",
   "execution_count": 2,
   "id": "e1269a93-4113-4c4c-ad8e-6c2391540997",
   "metadata": {},
   "outputs": [
    {
     "name": "stdout",
     "output_type": "stream",
     "text": [
      "['model.embed_tokens.weight',\n",
      " 'model.layers.0.input_layernorm.weight',\n",
      " 'model.layers.0.mlp.down_proj.weight',\n",
      " 'model.layers.0.mlp.gate_proj.weight',\n",
      " 'model.layers.0.mlp.up_proj.weight',\n",
      " 'model.layers.0.post_attention_layernorm.weight',\n",
      " 'model.layers.0.self_attn.k_proj.weight',\n",
      " 'model.layers.0.self_attn.o_proj.weight',\n",
      " 'model.layers.0.self_attn.q_proj.weight',\n",
      " 'model.layers.0.self_attn.v_proj.weight',\n",
      " 'model.layers.1.input_layernorm.weight',\n",
      " 'model.layers.1.mlp.down_proj.weight',\n",
      " 'model.layers.1.mlp.gate_proj.weight',\n",
      " 'model.layers.1.mlp.up_proj.weight',\n",
      " 'model.layers.1.post_attention_layernorm.weight',\n",
      " 'model.layers.1.self_attn.k_proj.weight',\n",
      " 'model.layers.1.self_attn.o_proj.weight',\n",
      " 'model.layers.1.self_attn.q_proj.weight',\n",
      " 'model.layers.1.self_attn.v_proj.weight',\n",
      " 'model.layers.2.input_layernorm.weight',\n",
      " 'model.layers.2.mlp.down_proj.weight',\n",
      " 'model.layers.2.mlp.gate_proj.weight',\n",
      " 'model.layers.2.mlp.up_proj.weight',\n",
      " 'model.layers.2.post_attention_layernorm.weight',\n",
      " 'model.layers.2.self_attn.k_proj.weight',\n",
      " 'model.layers.2.self_attn.o_proj.weight',\n",
      " 'model.layers.2.self_attn.q_proj.weight',\n",
      " 'model.layers.2.self_attn.v_proj.weight',\n",
      " 'model.layers.3.input_layernorm.weight',\n",
      " 'model.layers.3.mlp.down_proj.weight',\n",
      " 'model.layers.3.mlp.gate_proj.weight',\n",
      " 'model.layers.3.mlp.up_proj.weight',\n",
      " 'model.layers.3.post_attention_layernorm.weight',\n",
      " 'model.layers.3.self_attn.k_proj.weight',\n",
      " 'model.layers.3.self_attn.o_proj.weight',\n",
      " 'model.layers.3.self_attn.q_proj.weight',\n",
      " 'model.layers.3.self_attn.v_proj.weight',\n",
      " 'model.layers.4.input_layernorm.weight',\n",
      " 'model.layers.4.mlp.down_proj.weight',\n",
      " 'model.layers.4.mlp.gate_proj.weight',\n",
      " 'model.layers.4.mlp.up_proj.weight',\n",
      " 'model.layers.4.post_attention_layernorm.weight',\n",
      " 'model.layers.4.self_attn.k_proj.weight',\n",
      " 'model.layers.4.self_attn.o_proj.weight',\n",
      " 'model.layers.4.self_attn.q_proj.weight',\n",
      " 'model.layers.4.self_attn.v_proj.weight',\n",
      " 'model.layers.5.input_layernorm.weight',\n",
      " 'model.layers.5.mlp.down_proj.weight',\n",
      " 'model.layers.5.mlp.gate_proj.weight',\n",
      " 'model.layers.5.mlp.up_proj.weight',\n",
      " 'model.layers.5.post_attention_layernorm.weight',\n",
      " 'model.layers.5.self_attn.k_proj.weight',\n",
      " 'model.layers.5.self_attn.o_proj.weight',\n",
      " 'model.layers.5.self_attn.q_proj.weight',\n",
      " 'model.layers.5.self_attn.v_proj.weight',\n",
      " 'model.layers.6.input_layernorm.weight',\n",
      " 'model.layers.6.mlp.down_proj.weight',\n",
      " 'model.layers.6.mlp.gate_proj.weight',\n",
      " 'model.layers.6.mlp.up_proj.weight',\n",
      " 'model.layers.6.post_attention_layernorm.weight',\n",
      " 'model.layers.6.self_attn.k_proj.weight',\n",
      " 'model.layers.6.self_attn.o_proj.weight',\n",
      " 'model.layers.6.self_attn.q_proj.weight',\n",
      " 'model.layers.6.self_attn.v_proj.weight',\n",
      " 'model.layers.7.input_layernorm.weight',\n",
      " 'model.layers.7.mlp.down_proj.weight',\n",
      " 'model.layers.7.mlp.gate_proj.weight',\n",
      " 'model.layers.7.mlp.up_proj.weight',\n",
      " 'model.layers.7.post_attention_layernorm.weight',\n",
      " 'model.layers.7.self_attn.k_proj.weight',\n",
      " 'model.layers.7.self_attn.o_proj.weight',\n",
      " 'model.layers.7.self_attn.q_proj.weight',\n",
      " 'model.layers.7.self_attn.v_proj.weight',\n",
      " 'model.layers.8.input_layernorm.weight',\n",
      " 'model.layers.8.mlp.down_proj.weight',\n",
      " 'model.layers.8.mlp.gate_proj.weight',\n",
      " 'model.layers.8.mlp.up_proj.weight',\n",
      " 'model.layers.8.post_attention_layernorm.weight',\n",
      " 'model.layers.8.self_attn.k_proj.weight',\n",
      " 'model.layers.8.self_attn.o_proj.weight',\n",
      " 'model.layers.8.self_attn.q_proj.weight',\n",
      " 'model.layers.8.self_attn.v_proj.weight']\n"
     ]
    }
   ],
   "source": [
    "pprint(model_parser.tensor_names)"
   ]
  },
  {
   "cell_type": "markdown",
   "id": "62ba4793-b1c3-4e06-987a-e976bd1bfc82",
   "metadata": {},
   "source": [
    "## Prepare text and embeddings"
   ]
  },
  {
   "cell_type": "code",
   "execution_count": 3,
   "id": "6dd5102a-1958-46e7-b4f1-b8a1d7e17d82",
   "metadata": {},
   "outputs": [
    {
     "name": "stderr",
     "output_type": "stream",
     "text": [
      "Special tokens have been added in the vocabulary, make sure the associated word embeddings are fine-tuned or trained.\n"
     ]
    }
   ],
   "source": [
    "tokenizer = AutoTokenizer.from_pretrained(\"../Meta-Llama-3-8B/\")"
   ]
  },
  {
   "cell_type": "code",
   "execution_count": 4,
   "id": "fa4ab6c6-2a78-4982-b561-bd1247d65a15",
   "metadata": {},
   "outputs": [
    {
     "name": "stderr",
     "output_type": "stream",
     "text": [
      "\n",
      "No chat template is defined for this tokenizer - using a default chat template that implements the ChatML format (without BOS/EOS tokens!). If the default is not appropriate for your model, please set `tokenizer.chat_template` to an appropriate template. See https://huggingface.co/docs/transformers/main/chat_templating for more information.\n",
      "\n"
     ]
    }
   ],
   "source": [
    "messages = [\n",
    "    {\"role\": \"system\", \"content\": \"You are a pirate chatbot who always responds in pirate speak!\"},\n",
    "    {\"role\": \"user\", \"content\": \"Who are you?\"},\n",
    "]\n",
    "\n",
    "input_ids = tokenizer.apply_chat_template(\n",
    "    messages,\n",
    "    add_generation_prompt=True,\n",
    "    return_tensors=\"pt\"\n",
    ")#.to(model.device)\n",
    "\n",
    "terminators = [\n",
    "    tokenizer.eos_token_id,\n",
    "    tokenizer.convert_tokens_to_ids(\"<|eot_id|>\")\n",
    "]"
   ]
  },
  {
   "cell_type": "code",
   "execution_count": 5,
   "id": "befdb093-2276-4cb4-b8af-884226ee8cce",
   "metadata": {},
   "outputs": [
    {
     "data": {
      "text/plain": [
       "tensor([[   27,    91,   318,  5011,    91,    29,  9125,   198,  2675,   527,\n",
       "           264, 55066,  6369,  6465,   889,  2744, 31680,   304, 55066,  6604,\n",
       "         88032,    91,   318,  6345,    91,   397,    27,    91,   318,  5011,\n",
       "            91,    29,   882,   198, 15546,   527,   499, 76514,    91,   318,\n",
       "          6345,    91,   397,    27,    91,   318,  5011,    91,    29, 78191,\n",
       "           198]])"
      ]
     },
     "execution_count": 5,
     "metadata": {},
     "output_type": "execute_result"
    }
   ],
   "source": [
    "input_ids"
   ]
  },
  {
   "cell_type": "markdown",
   "id": "ef0d4133-d19f-4c83-88f3-688b4b888968",
   "metadata": {},
   "source": [
    "## Forward passes"
   ]
  },
  {
   "cell_type": "code",
   "execution_count": 3,
   "id": "4157b600-35ae-4d49-adb3-915c8581bf9a",
   "metadata": {},
   "outputs": [],
   "source": [
    "# load testing data\n",
    "import pickle\n",
    "with open(\"intermediate_data_llama3_8b.pkl\", \"rb\") as f:\n",
    "    data_orig = pickle.load(f)"
   ]
  },
  {
   "cell_type": "code",
   "execution_count": 4,
   "id": "8c1ffc14-2f83-49a6-98df-a2cd5c7ed1b7",
   "metadata": {},
   "outputs": [],
   "source": [
    "from transformer_ops import embedding_matrix, RMSNorm, Attention"
   ]
  },
  {
   "cell_type": "code",
   "execution_count": 5,
   "id": "c1c30155-42ed-45f8-9f9c-1362aae6dfcc",
   "metadata": {},
   "outputs": [
    {
     "name": "stderr",
     "output_type": "stream",
     "text": [
      "/home/alexo/projects/llama3/experiments/llama_experiments/utils/utils.py:42: UserWarning: The given buffer is not writable, and PyTorch does not support non-writable tensors. This means you can write to the underlying (supposedly non-writable) buffer using the tensor. You may want to copy the buffer to protect its data or make it writable before converting it to a tensor. This type of warning will be suppressed for the rest of this program. (Triggered internally at /opt/pytorch/pytorch/torch/csrc/utils/tensor_new.cpp:1524.)\n",
      "  parsed_vals = torch.frombuffer(tensor, dtype=torch.bfloat16).reshape(shape)\n"
     ]
    },
    {
     "ename": "NameError",
     "evalue": "name 'input_ids' is not defined",
     "output_type": "error",
     "traceback": [
      "\u001b[0;31m---------------------------------------------------------------------------\u001b[0m",
      "\u001b[0;31mNameError\u001b[0m                                 Traceback (most recent call last)",
      "Cell \u001b[0;32mIn[5], line 2\u001b[0m\n\u001b[1;32m      1\u001b[0m model_embed_tokens_weight \u001b[38;5;241m=\u001b[39m model_parser\u001b[38;5;241m.\u001b[39mget_tensor(\u001b[38;5;124m'\u001b[39m\u001b[38;5;124mmodel.embed_tokens.weight\u001b[39m\u001b[38;5;124m'\u001b[39m)\n\u001b[0;32m----> 2\u001b[0m input_embeddings \u001b[38;5;241m=\u001b[39m embedding_matrix(inputs\u001b[38;5;241m=\u001b[39m\u001b[43minput_ids\u001b[49m, weights\u001b[38;5;241m=\u001b[39mmodel_embed_tokens_weight)\n",
      "\u001b[0;31mNameError\u001b[0m: name 'input_ids' is not defined"
     ]
    }
   ],
   "source": [
    "model_embed_tokens_weight = model_parser.get_tensor('model.embed_tokens.weight')\n",
    "input_embeddings = embedding_matrix(inputs=input_ids, weights=model_embed_tokens_weight)"
   ]
  },
  {
   "cell_type": "code",
   "execution_count": 6,
   "id": "9f0adf43-e4e8-4fdb-8a12-1a561274d656",
   "metadata": {},
   "outputs": [],
   "source": [
    "model_layers_0_input_layernorm = RMSNorm()\n",
    "model_layers_0_post_attention_layernorm = RMSNorm()"
   ]
  },
  {
   "cell_type": "code",
   "execution_count": 7,
   "id": "33bf6d61-713f-4f4f-9f0c-492169f73eb2",
   "metadata": {},
   "outputs": [],
   "source": [
    "model_layers_0_input_layernorm_weight = model_parser.get_tensor('model.layers.0.input_layernorm.weight')\n",
    "model_layers_0_post_attention_layernorm_weight = model_parser.get_tensor('model.layers.0.post_attention_layernorm.weight')"
   ]
  },
  {
   "cell_type": "code",
   "execution_count": 8,
   "id": "60f46193-21f0-40bc-b91d-a01121f38edd",
   "metadata": {},
   "outputs": [],
   "source": [
    "input_embeddings = data_orig[\"inputs\"][\"model.layers.0.input_layernorm\"][0]"
   ]
  },
  {
   "cell_type": "code",
   "execution_count": 9,
   "id": "2d368cb2-5103-4c21-ade9-6ffe3589307b",
   "metadata": {},
   "outputs": [
    {
     "data": {
      "text/plain": [
       "True"
      ]
     },
     "execution_count": 9,
     "metadata": {},
     "output_type": "execute_result"
    }
   ],
   "source": [
    "torch.allclose(\n",
    "    model_layers_0_input_layernorm.forward(inputs=data_orig[\"inputs\"][\"model.layers.0.input_layernorm\"][0], weights=model_layers_0_input_layernorm_weight),\n",
    "    data_orig[\"outputs\"][\"model.layers.0.input_layernorm\"]\n",
    ")"
   ]
  },
  {
   "cell_type": "code",
   "execution_count": 10,
   "id": "660a20c6-fc00-4ef9-b30e-137c263d93c4",
   "metadata": {},
   "outputs": [
    {
     "data": {
      "text/plain": [
       "True"
      ]
     },
     "execution_count": 10,
     "metadata": {},
     "output_type": "execute_result"
    }
   ],
   "source": [
    "torch.allclose(\n",
    "    model_layers_0_post_attention_layernorm.forward(inputs=data_orig[\"inputs\"][\"model.layers.0.post_attention_layernorm\"][0], weights=model_layers_0_post_attention_layernorm_weight),\n",
    "    data_orig[\"outputs\"][\"model.layers.0.post_attention_layernorm\"]\n",
    ")"
   ]
  },
  {
   "cell_type": "markdown",
   "id": "5d438d16-6ac5-4ba7-859d-4c647b3835df",
   "metadata": {},
   "source": [
    "## Test Rope and Attention modules"
   ]
  },
  {
   "cell_type": "code",
   "execution_count": 11,
   "id": "fd952cd0-6945-437d-813d-dc78c0aa7341",
   "metadata": {},
   "outputs": [],
   "source": [
    "config = {\n",
    "  \"architectures\": [\n",
    "    \"LlamaForCausalLM\"\n",
    "  ],\n",
    "  \"attention_bias\": False,\n",
    "  \"attention_dropout\": 0.0,\n",
    "  \"bos_token_id\": 128000,\n",
    "  \"eos_token_id\": 128001,\n",
    "  \"hidden_act\": \"silu\",\n",
    "  \"hidden_size\": 4096,\n",
    "  \"initializer_range\": 0.02,\n",
    "  \"intermediate_size\": 14336,\n",
    "  \"max_position_embeddings\": 8192,\n",
    "  \"model_type\": \"llama\",\n",
    "  \"num_attention_heads\": 32,\n",
    "  \"num_hidden_layers\": 32,\n",
    "  \"num_key_value_heads\": 8,\n",
    "  \"pretraining_tp\": 1,\n",
    "  \"rms_norm_eps\": 1e-05,\n",
    "  \"rope_scaling\": None,\n",
    "  \"rope_theta\": 500000.0,\n",
    "  \"tie_word_embeddings\": False,\n",
    "  \"torch_dtype\": torch.bfloat16,\n",
    "  \"transformers_version\": \"4.40.0.dev0\",\n",
    "  \"use_cache\": True,\n",
    "  \"vocab_size\": 128256\n",
    "}\n",
    "\n",
    "def precompute_rope_constants(dim: int, end: int, theta: float = 10000.0):\n",
    "    \"\"\"\n",
    "    RoPE:\n",
    "        - https://blog.eleuther.ai/rotary-embeddings/\n",
    "        - https://github.com/meta-llama/llama3/blob/main/llama/model.py\n",
    "    \"\"\" \n",
    "    freqs = 1.0 / (theta ** (torch.arange(0, dim, 2)[: (dim // 2)].float() / dim))\n",
    "    t = torch.arange(end, device=freqs.device, dtype=torch.float32)\n",
    "    freqs = torch.outer(t, freqs)\n",
    "    freqs_cis = torch.polar(torch.ones_like(freqs), freqs)  # complex64\n",
    "    return freqs_cis"
   ]
  },
  {
   "cell_type": "code",
   "execution_count": 25,
   "id": "f47c786f-e9e1-4473-bc04-b8716c4bf0cb",
   "metadata": {},
   "outputs": [],
   "source": [
    "freqs_rope = precompute_rope_constants(\n",
    "    config[\"hidden_size\"] // config[\"num_attention_heads\"],\n",
    "    config[\"max_position_embeddings\"] * 2,\n",
    "    config[\"rope_theta\"],\n",
    ")"
   ]
  },
  {
   "cell_type": "code",
   "execution_count": null,
   "id": "5372b5d5-53e5-414b-bbd6-4dc0870bf97b",
   "metadata": {},
   "outputs": [],
   "source": []
  },
  {
   "cell_type": "code",
   "execution_count": 26,
   "id": "ed4bffc0-25fe-4f04-b835-60f450ceffc1",
   "metadata": {},
   "outputs": [
    {
     "data": {
      "text/plain": [
       "torch.Size([16384, 64])"
      ]
     },
     "execution_count": 26,
     "metadata": {},
     "output_type": "execute_result"
    }
   ],
   "source": [
    "freqs_rope.shape"
   ]
  },
  {
   "cell_type": "code",
   "execution_count": 27,
   "id": "763bd063-81f7-4d5b-af9c-08ba81d8b00c",
   "metadata": {},
   "outputs": [],
   "source": [
    "attn_weights = {\n",
    "    \"self_attn.q_proj.weight\": model_parser.get_tensor('model.layers.0.self_attn.q_proj.weight'),\n",
    "    \"self_attn.k_proj.weight\": model_parser.get_tensor('model.layers.0.self_attn.k_proj.weight'),\n",
    "    \"self_attn.v_proj.weight\": model_parser.get_tensor('model.layers.0.self_attn.v_proj.weight'),\n",
    "    \"self_attn.o_proj.weight\": model_parser.get_tensor('model.layers.0.self_attn.o_proj.weight')\n",
    "}"
   ]
  },
  {
   "cell_type": "code",
   "execution_count": 28,
   "id": "907b715a-4ee8-44a1-af8f-7e18563ea5bf",
   "metadata": {},
   "outputs": [],
   "source": [
    "attention_0 = Attention(config)"
   ]
  },
  {
   "cell_type": "code",
   "execution_count": 29,
   "id": "fbfd4d64-3394-4931-ae83-1cf7d44b748d",
   "metadata": {},
   "outputs": [
    {
     "name": "stdout",
     "output_type": "stream",
     "text": [
      "torch.Size([1, 51, 4096])\n",
      "torch.Size([1, 51, 4096])\n"
     ]
    }
   ],
   "source": [
    "# inputs to attention's projections are going to be the same for each projection MLP, and this input also corresponds to the attention block input\n",
    "attn_block_input_orig = data_orig[\"inputs\"][\"model.layers.0.self_attn.q_proj\"][0]\n",
    "attn_block_output_orig = data_orig[\"outputs\"][\"model.layers.0.self_attn\"][0]\n",
    "\n",
    "print(attn_block_input_orig.shape)\n",
    "print(attn_block_input_orig.shape)"
   ]
  },
  {
   "cell_type": "code",
   "execution_count": 30,
   "id": "99b3f676-a6d3-4fae-a6f5-4b5f47475a5c",
   "metadata": {},
   "outputs": [
    {
     "data": {
      "text/plain": [
       "torch.Size([16384, 64])"
      ]
     },
     "execution_count": 30,
     "metadata": {},
     "output_type": "execute_result"
    }
   ],
   "source": [
    "freqs_rope.shape"
   ]
  },
  {
   "cell_type": "code",
   "execution_count": 31,
   "id": "25be0db1-6682-4fc1-adf1-42763bd0f3a2",
   "metadata": {},
   "outputs": [],
   "source": [
    "start_pos = 0\n",
    "seq_len = attn_block_input_orig.shape[1]\n",
    "\n",
    "mask = None\n",
    "if seq_len > 1:\n",
    "    mask = torch.full((seq_len, seq_len), float(\"-inf\"))#, device=tokens.device)\n",
    "\n",
    "    mask = torch.triu(mask, diagonal=1)\n",
    "\n",
    "    # When performing key-value caching, we compute the attention scores\n",
    "    # only for the new sequence. Thus, the matrix of scores is of size\n",
    "    # (seqlen, cache_len + seqlen), and the only masked entries are (i, j) for\n",
    "    # j > cache_len + i, since row i corresponds to token cache_len + i.\n",
    "    mask = torch.hstack(\n",
    "        #[torch.zeros((seq_len, start_pos), device=tokens.device), mask]\n",
    "        [torch.zeros((seq_len, start_pos)), mask]\n",
    "    ).to(torch.bfloat16)#.type_as(h)"
   ]
  },
  {
   "cell_type": "code",
   "execution_count": 38,
   "id": "39506c86-e256-4a2a-8557-d9a6714e270e",
   "metadata": {},
   "outputs": [],
   "source": [
    "attn_block_out_ours = attention_0.forward(attn_block_input_orig, start_pos, weights=attn_weights, mask=mask, freqs_rope=freqs_rope[start_pos:start_pos+seq_len])"
   ]
  },
  {
   "cell_type": "code",
   "execution_count": 39,
   "id": "77d89794-87d4-48fd-ab5d-0d1ccd36466f",
   "metadata": {},
   "outputs": [
    {
     "data": {
      "text/plain": [
       "tensor([[[ 7.8125e-03,  1.2665e-03, -1.7395e-03,  ..., -3.9062e-03,\n",
       "          -9.0332e-03, -3.6469e-03],\n",
       "         [ 9.2773e-03,  2.9449e-03, -3.6163e-03,  ..., -5.6458e-03,\n",
       "          -5.9204e-03,  5.2490e-03],\n",
       "         [-4.6692e-03, -5.0354e-03,  2.9945e-04,  ...,  7.6904e-03,\n",
       "          -4.6387e-03,  4.3297e-04],\n",
       "         ...,\n",
       "         [-3.1738e-03,  5.4169e-04, -8.9722e-03,  ..., -3.0060e-03,\n",
       "          -3.4180e-03, -2.2430e-03],\n",
       "         [ 1.7090e-03, -9.2316e-04,  5.2185e-03,  ..., -4.3678e-04,\n",
       "          -1.1902e-03, -1.2207e-03],\n",
       "         [ 5.2185e-03,  3.2043e-03, -6.8359e-03,  ..., -4.1504e-03,\n",
       "          -2.7061e-05, -6.8665e-04]]], dtype=torch.bfloat16)"
      ]
     },
     "execution_count": 39,
     "metadata": {},
     "output_type": "execute_result"
    }
   ],
   "source": [
    "attn_block_output_orig"
   ]
  },
  {
   "cell_type": "code",
   "execution_count": 40,
   "id": "c5162c51-ebdb-4272-a9a1-a61c32be1eaa",
   "metadata": {},
   "outputs": [
    {
     "data": {
      "text/plain": [
       "tensor([[[ 0.0078,  0.0013, -0.0017,  ..., -0.0039, -0.0090, -0.0036],\n",
       "         [ 0.0075,  0.0058, -0.0045,  ...,  0.0028, -0.0044,  0.0002],\n",
       "         [-0.0039, -0.0029, -0.0013,  ...,  0.0105, -0.0037,  0.0004],\n",
       "         ...,\n",
       "         [-0.0043, -0.0040, -0.0078,  ...,  0.0007, -0.0041, -0.0003],\n",
       "         [ 0.0006, -0.0051,  0.0033,  ...,  0.0010, -0.0021, -0.0024],\n",
       "         [-0.0004, -0.0002,  0.0051,  ...,  0.0070, -0.0038, -0.0054]]],\n",
       "       dtype=torch.bfloat16)"
      ]
     },
     "execution_count": 40,
     "metadata": {},
     "output_type": "execute_result"
    }
   ],
   "source": [
    "attn_block_out_ours"
   ]
  },
  {
   "cell_type": "code",
   "execution_count": 41,
   "id": "aebf3a58-4024-4e86-81ac-1ad8e6fc630c",
   "metadata": {},
   "outputs": [
    {
     "data": {
      "text/plain": [
       "tensor([[[0.0000e+00, 0.0000e+00, 0.0000e+00,  ..., 0.0000e+00,\n",
       "          0.0000e+00, 0.0000e+00],\n",
       "         [1.7700e-03, 2.8839e-03, 8.6975e-04,  ..., 8.4229e-03,\n",
       "          1.5259e-03, 5.0659e-03],\n",
       "         [7.6294e-04, 2.1515e-03, 1.6251e-03,  ..., 2.8076e-03,\n",
       "          9.1553e-04, 1.9073e-06],\n",
       "         ...,\n",
       "         [1.1292e-03, 4.5471e-03, 1.1597e-03,  ..., 3.6621e-03,\n",
       "          6.4087e-04, 1.9684e-03],\n",
       "         [1.1292e-03, 4.1504e-03, 1.9073e-03,  ..., 1.4420e-03,\n",
       "          9.0027e-04, 1.1749e-03],\n",
       "         [5.6458e-03, 3.4485e-03, 1.1902e-02,  ..., 1.1230e-02,\n",
       "          3.7842e-03, 4.7607e-03]]], dtype=torch.bfloat16)"
      ]
     },
     "execution_count": 41,
     "metadata": {},
     "output_type": "execute_result"
    }
   ],
   "source": [
    "torch.abs(attn_block_output_orig - attn_block_out_ours)"
   ]
  },
  {
   "cell_type": "code",
   "execution_count": 24,
   "id": "772444bb-15da-4eaf-9057-045f959cb0f3",
   "metadata": {},
   "outputs": [
    {
     "data": {
      "text/plain": [
       "False"
      ]
     },
     "execution_count": 24,
     "metadata": {},
     "output_type": "execute_result"
    }
   ],
   "source": [
    "torch.allclose(\n",
    "    attn_block_out_ours, attn_block_output_orig\n",
    ")"
   ]
  }
 ],
 "metadata": {
  "kernelspec": {
   "display_name": "Python 3 (ipykernel)",
   "language": "python",
   "name": "python3"
  },
  "language_info": {
   "codemirror_mode": {
    "name": "ipython",
    "version": 3
   },
   "file_extension": ".py",
   "mimetype": "text/x-python",
   "name": "python",
   "nbconvert_exporter": "python",
   "pygments_lexer": "ipython3",
   "version": "3.10.12"
  }
 },
 "nbformat": 4,
 "nbformat_minor": 5
}
