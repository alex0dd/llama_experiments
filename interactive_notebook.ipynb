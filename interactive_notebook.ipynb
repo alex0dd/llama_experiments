{
 "cells": [
  {
   "cell_type": "code",
   "execution_count": 1,
   "id": "432f8e64-1fc5-4349-865c-8f4e6345023b",
   "metadata": {},
   "outputs": [],
   "source": [
    "from pprint import pprint\n",
    "from parsers import ModelParser\n",
    "\n",
    "import torch\n",
    "from transformers import AutoTokenizer\n",
    "\n",
    "model_parser = ModelParser([\n",
    "    \"../Meta-Llama-3-8B/model-00001-of-00004.safetensors\",\n",
    "])"
   ]
  },
  {
   "cell_type": "code",
   "execution_count": 2,
   "id": "e1269a93-4113-4c4c-ad8e-6c2391540997",
   "metadata": {},
   "outputs": [
    {
     "name": "stdout",
     "output_type": "stream",
     "text": [
      "['model.embed_tokens.weight',\n",
      " 'model.layers.0.input_layernorm.weight',\n",
      " 'model.layers.0.mlp.down_proj.weight',\n",
      " 'model.layers.0.mlp.gate_proj.weight',\n",
      " 'model.layers.0.mlp.up_proj.weight',\n",
      " 'model.layers.0.post_attention_layernorm.weight',\n",
      " 'model.layers.0.self_attn.k_proj.weight',\n",
      " 'model.layers.0.self_attn.o_proj.weight',\n",
      " 'model.layers.0.self_attn.q_proj.weight',\n",
      " 'model.layers.0.self_attn.v_proj.weight',\n",
      " 'model.layers.1.input_layernorm.weight',\n",
      " 'model.layers.1.mlp.down_proj.weight',\n",
      " 'model.layers.1.mlp.gate_proj.weight',\n",
      " 'model.layers.1.mlp.up_proj.weight',\n",
      " 'model.layers.1.post_attention_layernorm.weight',\n",
      " 'model.layers.1.self_attn.k_proj.weight',\n",
      " 'model.layers.1.self_attn.o_proj.weight',\n",
      " 'model.layers.1.self_attn.q_proj.weight',\n",
      " 'model.layers.1.self_attn.v_proj.weight',\n",
      " 'model.layers.2.input_layernorm.weight',\n",
      " 'model.layers.2.mlp.down_proj.weight',\n",
      " 'model.layers.2.mlp.gate_proj.weight',\n",
      " 'model.layers.2.mlp.up_proj.weight',\n",
      " 'model.layers.2.post_attention_layernorm.weight',\n",
      " 'model.layers.2.self_attn.k_proj.weight',\n",
      " 'model.layers.2.self_attn.o_proj.weight',\n",
      " 'model.layers.2.self_attn.q_proj.weight',\n",
      " 'model.layers.2.self_attn.v_proj.weight',\n",
      " 'model.layers.3.input_layernorm.weight',\n",
      " 'model.layers.3.mlp.down_proj.weight',\n",
      " 'model.layers.3.mlp.gate_proj.weight',\n",
      " 'model.layers.3.mlp.up_proj.weight',\n",
      " 'model.layers.3.post_attention_layernorm.weight',\n",
      " 'model.layers.3.self_attn.k_proj.weight',\n",
      " 'model.layers.3.self_attn.o_proj.weight',\n",
      " 'model.layers.3.self_attn.q_proj.weight',\n",
      " 'model.layers.3.self_attn.v_proj.weight',\n",
      " 'model.layers.4.input_layernorm.weight',\n",
      " 'model.layers.4.mlp.down_proj.weight',\n",
      " 'model.layers.4.mlp.gate_proj.weight',\n",
      " 'model.layers.4.mlp.up_proj.weight',\n",
      " 'model.layers.4.post_attention_layernorm.weight',\n",
      " 'model.layers.4.self_attn.k_proj.weight',\n",
      " 'model.layers.4.self_attn.o_proj.weight',\n",
      " 'model.layers.4.self_attn.q_proj.weight',\n",
      " 'model.layers.4.self_attn.v_proj.weight',\n",
      " 'model.layers.5.input_layernorm.weight',\n",
      " 'model.layers.5.mlp.down_proj.weight',\n",
      " 'model.layers.5.mlp.gate_proj.weight',\n",
      " 'model.layers.5.mlp.up_proj.weight',\n",
      " 'model.layers.5.post_attention_layernorm.weight',\n",
      " 'model.layers.5.self_attn.k_proj.weight',\n",
      " 'model.layers.5.self_attn.o_proj.weight',\n",
      " 'model.layers.5.self_attn.q_proj.weight',\n",
      " 'model.layers.5.self_attn.v_proj.weight',\n",
      " 'model.layers.6.input_layernorm.weight',\n",
      " 'model.layers.6.mlp.down_proj.weight',\n",
      " 'model.layers.6.mlp.gate_proj.weight',\n",
      " 'model.layers.6.mlp.up_proj.weight',\n",
      " 'model.layers.6.post_attention_layernorm.weight',\n",
      " 'model.layers.6.self_attn.k_proj.weight',\n",
      " 'model.layers.6.self_attn.o_proj.weight',\n",
      " 'model.layers.6.self_attn.q_proj.weight',\n",
      " 'model.layers.6.self_attn.v_proj.weight',\n",
      " 'model.layers.7.input_layernorm.weight',\n",
      " 'model.layers.7.mlp.down_proj.weight',\n",
      " 'model.layers.7.mlp.gate_proj.weight',\n",
      " 'model.layers.7.mlp.up_proj.weight',\n",
      " 'model.layers.7.post_attention_layernorm.weight',\n",
      " 'model.layers.7.self_attn.k_proj.weight',\n",
      " 'model.layers.7.self_attn.o_proj.weight',\n",
      " 'model.layers.7.self_attn.q_proj.weight',\n",
      " 'model.layers.7.self_attn.v_proj.weight',\n",
      " 'model.layers.8.input_layernorm.weight',\n",
      " 'model.layers.8.mlp.down_proj.weight',\n",
      " 'model.layers.8.mlp.gate_proj.weight',\n",
      " 'model.layers.8.mlp.up_proj.weight',\n",
      " 'model.layers.8.post_attention_layernorm.weight',\n",
      " 'model.layers.8.self_attn.k_proj.weight',\n",
      " 'model.layers.8.self_attn.o_proj.weight',\n",
      " 'model.layers.8.self_attn.q_proj.weight',\n",
      " 'model.layers.8.self_attn.v_proj.weight']\n"
     ]
    }
   ],
   "source": [
    "pprint(model_parser.tensor_names)"
   ]
  },
  {
   "cell_type": "markdown",
   "id": "62ba4793-b1c3-4e06-987a-e976bd1bfc82",
   "metadata": {},
   "source": [
    "## Prepare text and embeddings"
   ]
  },
  {
   "cell_type": "code",
   "execution_count": 3,
   "id": "6dd5102a-1958-46e7-b4f1-b8a1d7e17d82",
   "metadata": {},
   "outputs": [
    {
     "name": "stderr",
     "output_type": "stream",
     "text": [
      "Special tokens have been added in the vocabulary, make sure the associated word embeddings are fine-tuned or trained.\n"
     ]
    }
   ],
   "source": [
    "tokenizer = AutoTokenizer.from_pretrained(\"../Meta-Llama-3-8B/\")"
   ]
  },
  {
   "cell_type": "code",
   "execution_count": 4,
   "id": "fa4ab6c6-2a78-4982-b561-bd1247d65a15",
   "metadata": {},
   "outputs": [
    {
     "name": "stderr",
     "output_type": "stream",
     "text": [
      "\n",
      "No chat template is defined for this tokenizer - using a default chat template that implements the ChatML format (without BOS/EOS tokens!). If the default is not appropriate for your model, please set `tokenizer.chat_template` to an appropriate template. See https://huggingface.co/docs/transformers/main/chat_templating for more information.\n",
      "\n"
     ]
    }
   ],
   "source": [
    "messages = [\n",
    "    {\"role\": \"system\", \"content\": \"You are a pirate chatbot who always responds in pirate speak!\"},\n",
    "    {\"role\": \"user\", \"content\": \"Who are you?\"},\n",
    "]\n",
    "\n",
    "input_ids = tokenizer.apply_chat_template(\n",
    "    messages,\n",
    "    add_generation_prompt=True,\n",
    "    return_tensors=\"pt\"\n",
    ")#.to(model.device)\n",
    "\n",
    "terminators = [\n",
    "    tokenizer.eos_token_id,\n",
    "    tokenizer.convert_tokens_to_ids(\"<|eot_id|>\")\n",
    "]"
   ]
  },
  {
   "cell_type": "code",
   "execution_count": 5,
   "id": "befdb093-2276-4cb4-b8af-884226ee8cce",
   "metadata": {},
   "outputs": [
    {
     "data": {
      "text/plain": [
       "tensor([[   27,    91,   318,  5011,    91,    29,  9125,   198,  2675,   527,\n",
       "           264, 55066,  6369,  6465,   889,  2744, 31680,   304, 55066,  6604,\n",
       "         88032,    91,   318,  6345,    91,   397,    27,    91,   318,  5011,\n",
       "            91,    29,   882,   198, 15546,   527,   499, 76514,    91,   318,\n",
       "          6345,    91,   397,    27,    91,   318,  5011,    91,    29, 78191,\n",
       "           198]])"
      ]
     },
     "execution_count": 5,
     "metadata": {},
     "output_type": "execute_result"
    }
   ],
   "source": [
    "input_ids"
   ]
  },
  {
   "cell_type": "markdown",
   "id": "ef0d4133-d19f-4c83-88f3-688b4b888968",
   "metadata": {},
   "source": [
    "## Forward passes"
   ]
  },
  {
   "cell_type": "code",
   "execution_count": 6,
   "id": "4157b600-35ae-4d49-adb3-915c8581bf9a",
   "metadata": {},
   "outputs": [],
   "source": [
    "# load testing data\n",
    "import pickle\n",
    "with open(\"intermediate_data_llama3_8b.pkl\", \"rb\") as f:\n",
    "    data_orig = pickle.load(f)"
   ]
  },
  {
   "cell_type": "code",
   "execution_count": 7,
   "id": "8c1ffc14-2f83-49a6-98df-a2cd5c7ed1b7",
   "metadata": {},
   "outputs": [],
   "source": [
    "from transformer_ops import embedding_matrix, RMSNorm"
   ]
  },
  {
   "cell_type": "code",
   "execution_count": 10,
   "id": "c1c30155-42ed-45f8-9f9c-1362aae6dfcc",
   "metadata": {},
   "outputs": [],
   "source": [
    "model_embed_tokens_weight = model_parser.get_tensor('model.embed_tokens.weight')\n",
    "input_embeddings = embedding_matrix(inputs=input_ids, weights=model_embed_tokens_weight)"
   ]
  },
  {
   "cell_type": "code",
   "execution_count": 12,
   "id": "9f0adf43-e4e8-4fdb-8a12-1a561274d656",
   "metadata": {},
   "outputs": [],
   "source": [
    "model_layers_0_input_layernorm = RMSNorm()\n",
    "model_layers_0_post_attention_layernorm = RMSNorm()"
   ]
  },
  {
   "cell_type": "code",
   "execution_count": 14,
   "id": "33bf6d61-713f-4f4f-9f0c-492169f73eb2",
   "metadata": {},
   "outputs": [],
   "source": [
    "model_layers_0_input_layernorm_weight = model_parser.get_tensor('model.layers.0.input_layernorm.weight')\n",
    "model_layers_0_post_attention_layernorm_weight = model_parser.get_tensor('model.layers.0.post_attention_layernorm.weight')"
   ]
  },
  {
   "cell_type": "code",
   "execution_count": 9,
   "id": "60f46193-21f0-40bc-b91d-a01121f38edd",
   "metadata": {},
   "outputs": [],
   "source": [
    "input_embeddings = data_orig[\"inputs\"][\"model.layers.0.input_layernorm\"][0]"
   ]
  },
  {
   "cell_type": "code",
   "execution_count": 22,
   "id": "2d368cb2-5103-4c21-ade9-6ffe3589307b",
   "metadata": {},
   "outputs": [
    {
     "data": {
      "text/plain": [
       "True"
      ]
     },
     "execution_count": 22,
     "metadata": {},
     "output_type": "execute_result"
    }
   ],
   "source": [
    "torch.allclose(\n",
    "    model_layers_0_input_layernorm.forward(inputs=data_orig[\"inputs\"][\"model.layers.0.input_layernorm\"][0], weights=model_layers_0_input_layernorm_weight),\n",
    "    data_orig[\"outputs\"][\"model.layers.0.input_layernorm\"]\n",
    ")"
   ]
  },
  {
   "cell_type": "code",
   "execution_count": 23,
   "id": "660a20c6-fc00-4ef9-b30e-137c263d93c4",
   "metadata": {},
   "outputs": [
    {
     "data": {
      "text/plain": [
       "True"
      ]
     },
     "execution_count": 23,
     "metadata": {},
     "output_type": "execute_result"
    }
   ],
   "source": [
    "torch.allclose(\n",
    "    model_layers_0_post_attention_layernorm.forward(inputs=data_orig[\"inputs\"][\"model.layers.0.post_attention_layernorm\"][0], weights=model_layers_0_post_attention_layernorm_weight),\n",
    "    data_orig[\"outputs\"][\"model.layers.0.post_attention_layernorm\"]\n",
    ")"
   ]
  },
  {
   "cell_type": "code",
   "execution_count": null,
   "id": "af5c8cbe-e4bb-4395-9112-4cad6dfbdbcd",
   "metadata": {},
   "outputs": [],
   "source": []
  },
  {
   "cell_type": "code",
   "execution_count": 26,
   "id": "fd952cd0-6945-437d-813d-dc78c0aa7341",
   "metadata": {},
   "outputs": [],
   "source": [
    "config = {\n",
    "  \"architectures\": [\n",
    "    \"LlamaForCausalLM\"\n",
    "  ],\n",
    "  \"attention_bias\": False,\n",
    "  \"attention_dropout\": 0.0,\n",
    "  \"bos_token_id\": 128000,\n",
    "  \"eos_token_id\": 128001,\n",
    "  \"hidden_act\": \"silu\",\n",
    "  \"hidden_size\": 4096,\n",
    "  \"initializer_range\": 0.02,\n",
    "  \"intermediate_size\": 14336,\n",
    "  \"max_position_embeddings\": 8192,\n",
    "  \"model_type\": \"llama\",\n",
    "  \"num_attention_heads\": 32,\n",
    "  \"num_hidden_layers\": 32,\n",
    "  \"num_key_value_heads\": 8,\n",
    "  \"pretraining_tp\": 1,\n",
    "  \"rms_norm_eps\": 1e-05,\n",
    "  \"rope_scaling\": None,\n",
    "  \"rope_theta\": 500000.0,\n",
    "  \"tie_word_embeddings\": False,\n",
    "  \"torch_dtype\": \"bfloat16\",\n",
    "  \"transformers_version\": \"4.40.0.dev0\",\n",
    "  \"use_cache\": True,\n",
    "  \"vocab_size\": 128256\n",
    "}\n",
    "\n",
    "def precompute_rope_constants(dim: int, end: int, theta: float = 10000.0):\n",
    "    \"\"\"\n",
    "    RoPE:\n",
    "        - https://blog.eleuther.ai/rotary-embeddings/\n",
    "        - https://github.com/meta-llama/llama3/blob/main/llama/model.py\n",
    "    \"\"\" \n",
    "    freqs = 1.0 / (theta ** (torch.arange(0, dim, 2)[: (dim // 2)].float() / dim))\n",
    "    t = torch.arange(end, device=freqs.device, dtype=torch.float32)\n",
    "    freqs = torch.outer(t, freqs)\n",
    "    freqs_cis = torch.polar(torch.ones_like(freqs), freqs)  # complex64\n",
    "    return freqs_cis"
   ]
  },
  {
   "cell_type": "code",
   "execution_count": 30,
   "id": "f47c786f-e9e1-4473-bc04-b8716c4bf0cb",
   "metadata": {},
   "outputs": [],
   "source": [
    "freqs_cis = precompute_rope_constants(\n",
    "    config[\"hidden_size\"] // config[\"num_attention_heads\"],\n",
    "    config[\"max_position_embeddings\"] * 2,\n",
    "    config[\"rope_theta\"],\n",
    ")"
   ]
  },
  {
   "cell_type": "code",
   "execution_count": 32,
   "id": "ed4bffc0-25fe-4f04-b835-60f450ceffc1",
   "metadata": {},
   "outputs": [
    {
     "data": {
      "text/plain": [
       "torch.Size([16384, 64])"
      ]
     },
     "execution_count": 32,
     "metadata": {},
     "output_type": "execute_result"
    }
   ],
   "source": [
    "freqs_cis.shape"
   ]
  }
 ],
 "metadata": {
  "kernelspec": {
   "display_name": "Python 3 (ipykernel)",
   "language": "python",
   "name": "python3"
  },
  "language_info": {
   "codemirror_mode": {
    "name": "ipython",
    "version": 3
   },
   "file_extension": ".py",
   "mimetype": "text/x-python",
   "name": "python",
   "nbconvert_exporter": "python",
   "pygments_lexer": "ipython3",
   "version": "3.10.12"
  }
 },
 "nbformat": 4,
 "nbformat_minor": 5
}
