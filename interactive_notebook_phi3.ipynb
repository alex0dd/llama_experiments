{
 "cells": [
  {
   "cell_type": "code",
   "execution_count": 2,
   "id": "432f8e64-1fc5-4349-865c-8f4e6345023b",
   "metadata": {},
   "outputs": [
    {
     "name": "stderr",
     "output_type": "stream",
     "text": [
      "/Users/alexo/miniconda3/envs/llama_exploration/lib/python3.10/site-packages/tqdm/auto.py:21: TqdmWarning: IProgress not found. Please update jupyter and ipywidgets. See https://ipywidgets.readthedocs.io/en/stable/user_install.html\n",
      "  from .autonotebook import tqdm as notebook_tqdm\n"
     ]
    }
   ],
   "source": [
    "from pprint import pprint\n",
    "from parsers import ModelParser\n",
    "\n",
    "import torch\n",
    "from transformers import AutoTokenizer\n",
    "from utils.utils import load_json\n",
    "\n",
    "model_parser = ModelParser([\n",
    "    \"./Phi-3-mini-4k-instruct/model-00001-of-00002.safetensors\",\n",
    "    \"./Phi-3-mini-4k-instruct/model-00002-of-00002.safetensors\",\n",
    "])"
   ]
  },
  {
   "cell_type": "code",
   "execution_count": 3,
   "id": "7b79da00-a79e-4565-a7d8-21a52a9e336a",
   "metadata": {},
   "outputs": [
    {
     "data": {
      "text/plain": [
       "['model.embed_tokens.weight',\n",
       " 'model.layers.0.input_layernorm.weight',\n",
       " 'model.layers.0.mlp.down_proj.weight',\n",
       " 'model.layers.0.mlp.gate_up_proj.weight',\n",
       " 'model.layers.0.post_attention_layernorm.weight',\n",
       " 'model.layers.0.self_attn.o_proj.weight',\n",
       " 'model.layers.0.self_attn.qkv_proj.weight',\n",
       " 'model.layers.1.input_layernorm.weight',\n",
       " 'model.layers.1.mlp.down_proj.weight',\n",
       " 'model.layers.1.mlp.gate_up_proj.weight',\n",
       " 'model.layers.1.post_attention_layernorm.weight',\n",
       " 'model.layers.1.self_attn.o_proj.weight',\n",
       " 'model.layers.1.self_attn.qkv_proj.weight',\n",
       " 'model.layers.10.input_layernorm.weight',\n",
       " 'model.layers.10.mlp.down_proj.weight',\n",
       " 'model.layers.10.mlp.gate_up_proj.weight',\n",
       " 'model.layers.10.post_attention_layernorm.weight',\n",
       " 'model.layers.10.self_attn.o_proj.weight',\n",
       " 'model.layers.10.self_attn.qkv_proj.weight',\n",
       " 'model.layers.11.input_layernorm.weight',\n",
       " 'model.layers.11.mlp.down_proj.weight',\n",
       " 'model.layers.11.mlp.gate_up_proj.weight',\n",
       " 'model.layers.11.post_attention_layernorm.weight',\n",
       " 'model.layers.11.self_attn.o_proj.weight',\n",
       " 'model.layers.11.self_attn.qkv_proj.weight',\n",
       " 'model.layers.12.input_layernorm.weight',\n",
       " 'model.layers.12.mlp.down_proj.weight',\n",
       " 'model.layers.12.mlp.gate_up_proj.weight',\n",
       " 'model.layers.12.post_attention_layernorm.weight',\n",
       " 'model.layers.12.self_attn.o_proj.weight',\n",
       " 'model.layers.12.self_attn.qkv_proj.weight',\n",
       " 'model.layers.13.input_layernorm.weight',\n",
       " 'model.layers.13.mlp.down_proj.weight',\n",
       " 'model.layers.13.mlp.gate_up_proj.weight',\n",
       " 'model.layers.13.post_attention_layernorm.weight',\n",
       " 'model.layers.13.self_attn.o_proj.weight',\n",
       " 'model.layers.13.self_attn.qkv_proj.weight',\n",
       " 'model.layers.14.input_layernorm.weight',\n",
       " 'model.layers.14.mlp.down_proj.weight',\n",
       " 'model.layers.14.mlp.gate_up_proj.weight',\n",
       " 'model.layers.14.post_attention_layernorm.weight',\n",
       " 'model.layers.14.self_attn.o_proj.weight',\n",
       " 'model.layers.14.self_attn.qkv_proj.weight',\n",
       " 'model.layers.15.input_layernorm.weight',\n",
       " 'model.layers.15.mlp.down_proj.weight',\n",
       " 'model.layers.15.mlp.gate_up_proj.weight',\n",
       " 'model.layers.15.post_attention_layernorm.weight',\n",
       " 'model.layers.15.self_attn.o_proj.weight',\n",
       " 'model.layers.15.self_attn.qkv_proj.weight',\n",
       " 'model.layers.16.input_layernorm.weight',\n",
       " 'model.layers.16.mlp.down_proj.weight',\n",
       " 'model.layers.16.mlp.gate_up_proj.weight',\n",
       " 'model.layers.16.post_attention_layernorm.weight',\n",
       " 'model.layers.16.self_attn.o_proj.weight',\n",
       " 'model.layers.16.self_attn.qkv_proj.weight',\n",
       " 'model.layers.17.input_layernorm.weight',\n",
       " 'model.layers.17.mlp.down_proj.weight',\n",
       " 'model.layers.17.mlp.gate_up_proj.weight',\n",
       " 'model.layers.17.post_attention_layernorm.weight',\n",
       " 'model.layers.17.self_attn.o_proj.weight',\n",
       " 'model.layers.17.self_attn.qkv_proj.weight',\n",
       " 'model.layers.18.input_layernorm.weight',\n",
       " 'model.layers.18.mlp.down_proj.weight',\n",
       " 'model.layers.18.mlp.gate_up_proj.weight',\n",
       " 'model.layers.18.post_attention_layernorm.weight',\n",
       " 'model.layers.18.self_attn.o_proj.weight',\n",
       " 'model.layers.18.self_attn.qkv_proj.weight',\n",
       " 'model.layers.19.input_layernorm.weight',\n",
       " 'model.layers.19.mlp.down_proj.weight',\n",
       " 'model.layers.19.mlp.gate_up_proj.weight',\n",
       " 'model.layers.19.post_attention_layernorm.weight',\n",
       " 'model.layers.19.self_attn.o_proj.weight',\n",
       " 'model.layers.19.self_attn.qkv_proj.weight',\n",
       " 'model.layers.2.input_layernorm.weight',\n",
       " 'model.layers.2.mlp.down_proj.weight',\n",
       " 'model.layers.2.mlp.gate_up_proj.weight',\n",
       " 'model.layers.2.post_attention_layernorm.weight',\n",
       " 'model.layers.2.self_attn.o_proj.weight',\n",
       " 'model.layers.2.self_attn.qkv_proj.weight',\n",
       " 'model.layers.20.input_layernorm.weight',\n",
       " 'model.layers.20.mlp.down_proj.weight',\n",
       " 'model.layers.20.mlp.gate_up_proj.weight',\n",
       " 'model.layers.20.post_attention_layernorm.weight',\n",
       " 'model.layers.20.self_attn.o_proj.weight',\n",
       " 'model.layers.20.self_attn.qkv_proj.weight',\n",
       " 'model.layers.21.self_attn.o_proj.weight',\n",
       " 'model.layers.3.input_layernorm.weight',\n",
       " 'model.layers.3.mlp.down_proj.weight',\n",
       " 'model.layers.3.mlp.gate_up_proj.weight',\n",
       " 'model.layers.3.post_attention_layernorm.weight',\n",
       " 'model.layers.3.self_attn.o_proj.weight',\n",
       " 'model.layers.3.self_attn.qkv_proj.weight',\n",
       " 'model.layers.4.input_layernorm.weight',\n",
       " 'model.layers.4.mlp.down_proj.weight',\n",
       " 'model.layers.4.mlp.gate_up_proj.weight',\n",
       " 'model.layers.4.post_attention_layernorm.weight',\n",
       " 'model.layers.4.self_attn.o_proj.weight',\n",
       " 'model.layers.4.self_attn.qkv_proj.weight',\n",
       " 'model.layers.5.input_layernorm.weight',\n",
       " 'model.layers.5.mlp.down_proj.weight',\n",
       " 'model.layers.5.mlp.gate_up_proj.weight',\n",
       " 'model.layers.5.post_attention_layernorm.weight',\n",
       " 'model.layers.5.self_attn.o_proj.weight',\n",
       " 'model.layers.5.self_attn.qkv_proj.weight',\n",
       " 'model.layers.6.input_layernorm.weight',\n",
       " 'model.layers.6.mlp.down_proj.weight',\n",
       " 'model.layers.6.mlp.gate_up_proj.weight',\n",
       " 'model.layers.6.post_attention_layernorm.weight',\n",
       " 'model.layers.6.self_attn.o_proj.weight',\n",
       " 'model.layers.6.self_attn.qkv_proj.weight',\n",
       " 'model.layers.7.input_layernorm.weight',\n",
       " 'model.layers.7.mlp.down_proj.weight',\n",
       " 'model.layers.7.mlp.gate_up_proj.weight',\n",
       " 'model.layers.7.post_attention_layernorm.weight',\n",
       " 'model.layers.7.self_attn.o_proj.weight',\n",
       " 'model.layers.7.self_attn.qkv_proj.weight',\n",
       " 'model.layers.8.input_layernorm.weight',\n",
       " 'model.layers.8.mlp.down_proj.weight',\n",
       " 'model.layers.8.mlp.gate_up_proj.weight',\n",
       " 'model.layers.8.post_attention_layernorm.weight',\n",
       " 'model.layers.8.self_attn.o_proj.weight',\n",
       " 'model.layers.8.self_attn.qkv_proj.weight',\n",
       " 'model.layers.9.input_layernorm.weight',\n",
       " 'model.layers.9.mlp.down_proj.weight',\n",
       " 'model.layers.9.mlp.gate_up_proj.weight',\n",
       " 'model.layers.9.post_attention_layernorm.weight',\n",
       " 'model.layers.9.self_attn.o_proj.weight',\n",
       " 'model.layers.9.self_attn.qkv_proj.weight',\n",
       " 'lm_head.weight',\n",
       " 'model.layers.21.input_layernorm.weight',\n",
       " 'model.layers.21.mlp.down_proj.weight',\n",
       " 'model.layers.21.mlp.gate_up_proj.weight',\n",
       " 'model.layers.21.post_attention_layernorm.weight',\n",
       " 'model.layers.21.self_attn.qkv_proj.weight',\n",
       " 'model.layers.22.input_layernorm.weight',\n",
       " 'model.layers.22.mlp.down_proj.weight',\n",
       " 'model.layers.22.mlp.gate_up_proj.weight',\n",
       " 'model.layers.22.post_attention_layernorm.weight',\n",
       " 'model.layers.22.self_attn.o_proj.weight',\n",
       " 'model.layers.22.self_attn.qkv_proj.weight',\n",
       " 'model.layers.23.input_layernorm.weight',\n",
       " 'model.layers.23.mlp.down_proj.weight',\n",
       " 'model.layers.23.mlp.gate_up_proj.weight',\n",
       " 'model.layers.23.post_attention_layernorm.weight',\n",
       " 'model.layers.23.self_attn.o_proj.weight',\n",
       " 'model.layers.23.self_attn.qkv_proj.weight',\n",
       " 'model.layers.24.input_layernorm.weight',\n",
       " 'model.layers.24.mlp.down_proj.weight',\n",
       " 'model.layers.24.mlp.gate_up_proj.weight',\n",
       " 'model.layers.24.post_attention_layernorm.weight',\n",
       " 'model.layers.24.self_attn.o_proj.weight',\n",
       " 'model.layers.24.self_attn.qkv_proj.weight',\n",
       " 'model.layers.25.input_layernorm.weight',\n",
       " 'model.layers.25.mlp.down_proj.weight',\n",
       " 'model.layers.25.mlp.gate_up_proj.weight',\n",
       " 'model.layers.25.post_attention_layernorm.weight',\n",
       " 'model.layers.25.self_attn.o_proj.weight',\n",
       " 'model.layers.25.self_attn.qkv_proj.weight',\n",
       " 'model.layers.26.input_layernorm.weight',\n",
       " 'model.layers.26.mlp.down_proj.weight',\n",
       " 'model.layers.26.mlp.gate_up_proj.weight',\n",
       " 'model.layers.26.post_attention_layernorm.weight',\n",
       " 'model.layers.26.self_attn.o_proj.weight',\n",
       " 'model.layers.26.self_attn.qkv_proj.weight',\n",
       " 'model.layers.27.input_layernorm.weight',\n",
       " 'model.layers.27.mlp.down_proj.weight',\n",
       " 'model.layers.27.mlp.gate_up_proj.weight',\n",
       " 'model.layers.27.post_attention_layernorm.weight',\n",
       " 'model.layers.27.self_attn.o_proj.weight',\n",
       " 'model.layers.27.self_attn.qkv_proj.weight',\n",
       " 'model.layers.28.input_layernorm.weight',\n",
       " 'model.layers.28.mlp.down_proj.weight',\n",
       " 'model.layers.28.mlp.gate_up_proj.weight',\n",
       " 'model.layers.28.post_attention_layernorm.weight',\n",
       " 'model.layers.28.self_attn.o_proj.weight',\n",
       " 'model.layers.28.self_attn.qkv_proj.weight',\n",
       " 'model.layers.29.input_layernorm.weight',\n",
       " 'model.layers.29.mlp.down_proj.weight',\n",
       " 'model.layers.29.mlp.gate_up_proj.weight',\n",
       " 'model.layers.29.post_attention_layernorm.weight',\n",
       " 'model.layers.29.self_attn.o_proj.weight',\n",
       " 'model.layers.29.self_attn.qkv_proj.weight',\n",
       " 'model.layers.30.input_layernorm.weight',\n",
       " 'model.layers.30.mlp.down_proj.weight',\n",
       " 'model.layers.30.mlp.gate_up_proj.weight',\n",
       " 'model.layers.30.post_attention_layernorm.weight',\n",
       " 'model.layers.30.self_attn.o_proj.weight',\n",
       " 'model.layers.30.self_attn.qkv_proj.weight',\n",
       " 'model.layers.31.input_layernorm.weight',\n",
       " 'model.layers.31.mlp.down_proj.weight',\n",
       " 'model.layers.31.mlp.gate_up_proj.weight',\n",
       " 'model.layers.31.post_attention_layernorm.weight',\n",
       " 'model.layers.31.self_attn.o_proj.weight',\n",
       " 'model.layers.31.self_attn.qkv_proj.weight',\n",
       " 'model.norm.weight']"
      ]
     },
     "execution_count": 3,
     "metadata": {},
     "output_type": "execute_result"
    }
   ],
   "source": [
    "model_parser.tensor_names"
   ]
  },
  {
   "cell_type": "markdown",
   "id": "62ba4793-b1c3-4e06-987a-e976bd1bfc82",
   "metadata": {},
   "source": [
    "## Prepare text and embeddings"
   ]
  },
  {
   "cell_type": "code",
   "execution_count": 4,
   "id": "76260c3a-f3fd-401d-9d11-a342a696d617",
   "metadata": {},
   "outputs": [],
   "source": [
    "device=\"mps\"\n",
    "base_model_dir = \"./Phi-3-mini-4k-instruct\"\n",
    "config = load_json(f\"./{base_model_dir}/config.json\")"
   ]
  },
  {
   "cell_type": "code",
   "execution_count": 5,
   "id": "6dd5102a-1958-46e7-b4f1-b8a1d7e17d82",
   "metadata": {},
   "outputs": [
    {
     "name": "stderr",
     "output_type": "stream",
     "text": [
      "Special tokens have been added in the vocabulary, make sure the associated word embeddings are fine-tuned or trained.\n"
     ]
    }
   ],
   "source": [
    "tokenizer = AutoTokenizer.from_pretrained(base_model_dir)\n",
    "terminators = [\n",
    "    tokenizer.eos_token_id,\n",
    "    tokenizer.convert_tokens_to_ids(\"<|eot_id|>\"),\n",
    "]\n",
    "tokenizer.pad_token = tokenizer.eos_token"
   ]
  },
  {
   "cell_type": "code",
   "execution_count": 6,
   "id": "afb7852c-02a4-4899-8828-eef0fe0dd080",
   "metadata": {},
   "outputs": [],
   "source": [
    "def text_to_ids(text, tokenizer):\n",
    "    if type(text) != list: text = [text]\n",
    "    input_ids = tokenizer(\n",
    "        text,\n",
    "        #return_tensors=\"pt\",\n",
    "        #padding=True\n",
    "    )[\"input_ids\"]\n",
    "    return input_ids"
   ]
  },
  {
   "cell_type": "markdown",
   "id": "ef0d4133-d19f-4c83-88f3-688b4b888968",
   "metadata": {},
   "source": [
    "## Forward passes"
   ]
  },
  {
   "cell_type": "code",
   "execution_count": 7,
   "id": "8c1ffc14-2f83-49a6-98df-a2cd5c7ed1b7",
   "metadata": {},
   "outputs": [],
   "source": [
    "from ops.transformer_ops import Transformer\n",
    "from ops.generation import generate_text, generate_text_stream"
   ]
  },
  {
   "cell_type": "code",
   "execution_count": 8,
   "id": "c5f57df6-a04b-4cbd-a27c-802433dbca08",
   "metadata": {},
   "outputs": [],
   "source": [
    "import time"
   ]
  },
  {
   "cell_type": "code",
   "execution_count": 9,
   "id": "8846d446-76dd-4f44-a446-7b3bedb07b01",
   "metadata": {},
   "outputs": [],
   "source": [
    "model_dir = \"PHI3-MINI-4K-PKL-int8\"\n",
    "model = Transformer(model_dir, config, device=device)"
   ]
  },
  {
   "cell_type": "code",
   "execution_count": 11,
   "id": "493db226-caa2-48a1-a778-1b1ebf3cb713",
   "metadata": {},
   "outputs": [],
   "source": [
    "texts = [\"<|user|>I am going to Paris, what should I see?<|end|><|assistant|>\"]\n",
    "input_ids = text_to_ids(texts, tokenizer)"
   ]
  },
  {
   "cell_type": "code",
   "execution_count": 12,
   "id": "363f8e3b-f2bb-47ef-b8bb-cd58df47d4d3",
   "metadata": {},
   "outputs": [
    {
     "name": "stdout",
     "output_type": "stream",
     "text": [
      "['<|user|>I am going to Paris, what should I see?<|end|><|assistant|>Paris, known as the \"City of Light,\" offers a plethora of attractions that cater to a wide range of interests. Here\\'s a list of must-see sights and experiences:\\n\\n1. Eiffel Tower: Visit the iconic symbol of Paris, offering panoramic views of the city from its observation decks.\\n2. Louvre Museum: Explore the world-renowned museum and see famous works such as the Mona Lisa and Venus de Milo.\\n3. Notre-Dame Cathedral: Admire the stunning Gothic architecture and']\n",
      "Generation took 33.3645179271698 seconds, 3.8364108925357945 tokens/s.\n"
     ]
    }
   ],
   "source": [
    "start_time = time.time()\n",
    "outputs, total_tokens_count = generate_text(model, tokenizer, input_ids, max_gen_len=128, stop_tokens_ids=terminators)\n",
    "delta_time = time.time() - start_time\n",
    "print([text+output for text, output in zip(texts, outputs)])\n",
    "print(f\"Generation took {delta_time} seconds, {total_tokens_count/delta_time} tokens/s.\")"
   ]
  },
  {
   "cell_type": "code",
   "execution_count": null,
   "id": "a0edc8fc-afae-4b57-8181-7c656b17f2ee",
   "metadata": {},
   "outputs": [],
   "source": []
  },
  {
   "cell_type": "code",
   "execution_count": null,
   "id": "2e243688-bc2f-43c2-870e-89040cd6567d",
   "metadata": {},
   "outputs": [],
   "source": []
  },
  {
   "cell_type": "code",
   "execution_count": null,
   "id": "cd5f19f9-b6e2-44be-92a7-79ee51990d59",
   "metadata": {},
   "outputs": [],
   "source": []
  },
  {
   "cell_type": "code",
   "execution_count": null,
   "id": "ea8b4639-787f-40e6-83e9-ec2af229ac84",
   "metadata": {},
   "outputs": [],
   "source": []
  }
 ],
 "metadata": {
  "kernelspec": {
   "display_name": "Python 3 (ipykernel)",
   "language": "python",
   "name": "python3"
  },
  "language_info": {
   "codemirror_mode": {
    "name": "ipython",
    "version": 3
   },
   "file_extension": ".py",
   "mimetype": "text/x-python",
   "name": "python",
   "nbconvert_exporter": "python",
   "pygments_lexer": "ipython3",
   "version": "3.10.14"
  }
 },
 "nbformat": 4,
 "nbformat_minor": 5
}
